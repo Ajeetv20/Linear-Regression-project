{
 "cells": [
  {
   "cell_type": "code",
   "execution_count": 1,
   "id": "ba4475e0",
   "metadata": {},
   "outputs": [],
   "source": [
    "import pandas as pd \n",
    "import matplotlib.pyplot as plt \n",
    "import seaborn as sns\n",
    "import numpy as np\n",
    "from sklearn.linear_model import LinearRegression\n",
    "from sklearn.model_selection import train_test_split\n",
    "from sklearn.preprocessing import OneHotEncoder, StandardScaler\n",
    "from sklearn.metrics import r2_score,mean_absolute_error,mean_squared_error"
   ]
  },
  {
   "cell_type": "code",
   "execution_count": 2,
   "id": "9aa1f402",
   "metadata": {},
   "outputs": [
    {
     "name": "stderr",
     "output_type": "stream",
     "text": [
      "C:\\Users\\ajeet\\AppData\\Local\\Temp\\ipykernel_11760\\3952939705.py:1: DtypeWarning: Columns (1,2,4,5,6,7,9,10,11,14,15,16,17) have mixed types. Specify dtype option on import or set low_memory=False.\n",
      "  df = pd.read_csv(r\"C:\\Users\\ajeet\\Documents\\Imrticus\\LR Project\\tmdb_5000_movies.csv\")\n"
     ]
    }
   ],
   "source": [
    "df = pd.read_csv(r\"C:\\Users\\ajeet\\Documents\\Imrticus\\LR Project\\tmdb_5000_movies.csv\")"
   ]
  },
  {
   "cell_type": "code",
   "execution_count": 3,
   "id": "772054d0",
   "metadata": {},
   "outputs": [
    {
     "data": {
      "text/html": [
       "<div>\n",
       "<style scoped>\n",
       "    .dataframe tbody tr th:only-of-type {\n",
       "        vertical-align: middle;\n",
       "    }\n",
       "\n",
       "    .dataframe tbody tr th {\n",
       "        vertical-align: top;\n",
       "    }\n",
       "\n",
       "    .dataframe thead th {\n",
       "        text-align: right;\n",
       "    }\n",
       "</style>\n",
       "<table border=\"1\" class=\"dataframe\">\n",
       "  <thead>\n",
       "    <tr style=\"text-align: right;\">\n",
       "      <th></th>\n",
       "      <th>budget</th>\n",
       "      <th>Genres</th>\n",
       "      <th>homepage</th>\n",
       "      <th>id</th>\n",
       "      <th>keywords</th>\n",
       "      <th>original_language</th>\n",
       "      <th>original_title</th>\n",
       "      <th>overview</th>\n",
       "      <th>popularity</th>\n",
       "      <th>production_companies</th>\n",
       "      <th>production_countries</th>\n",
       "      <th>release_date</th>\n",
       "      <th>revenue</th>\n",
       "      <th>runtime</th>\n",
       "      <th>spoken_languages</th>\n",
       "      <th>status</th>\n",
       "      <th>tagline</th>\n",
       "      <th>title</th>\n",
       "      <th>vote_average</th>\n",
       "      <th>vote_count</th>\n",
       "    </tr>\n",
       "  </thead>\n",
       "  <tbody>\n",
       "    <tr>\n",
       "      <th>0</th>\n",
       "      <td>237000000.0</td>\n",
       "      <td>Action</td>\n",
       "      <td>http://www.avatarmovie.com/</td>\n",
       "      <td>19995.0</td>\n",
       "      <td>[{\"id\": 1463, \"name\": \"culture clash\"}, {\"id\":...</td>\n",
       "      <td>en</td>\n",
       "      <td>Avatar</td>\n",
       "      <td>In the 22nd century, a paraplegic Marine is di...</td>\n",
       "      <td>150.437577</td>\n",
       "      <td>[{\"name\": \"Ingenious Film Partners\", \"id\": 289...</td>\n",
       "      <td>United States of America</td>\n",
       "      <td>10-12-2009</td>\n",
       "      <td>2.787965e+09</td>\n",
       "      <td>162.0</td>\n",
       "      <td>[{\"iso_639_1\": \"en\", \"name\": \"English\"}, {\"iso...</td>\n",
       "      <td>Released</td>\n",
       "      <td>Enter the World of Pandora.</td>\n",
       "      <td>Avatar</td>\n",
       "      <td>7.2</td>\n",
       "      <td>11800.0</td>\n",
       "    </tr>\n",
       "    <tr>\n",
       "      <th>1</th>\n",
       "      <td>300000000.0</td>\n",
       "      <td>Adventure</td>\n",
       "      <td>http://disney.go.com/disneypictures/pirates/</td>\n",
       "      <td>285.0</td>\n",
       "      <td>[{\"id\": 270, \"name\": \"ocean\"}, {\"id\": 726, \"na...</td>\n",
       "      <td>en</td>\n",
       "      <td>Pirates of the Caribbean: At World's End</td>\n",
       "      <td>Captain Barbossa, long believed to be dead, ha...</td>\n",
       "      <td>139.082615</td>\n",
       "      <td>[{\"name\": \"Walt Disney Pictures\", \"id\": 2}, {\"...</td>\n",
       "      <td>United States of America</td>\n",
       "      <td>19-05-2007</td>\n",
       "      <td>9.610000e+08</td>\n",
       "      <td>169.0</td>\n",
       "      <td>[{\"iso_639_1\": \"en\", \"name\": \"English\"}]</td>\n",
       "      <td>Released</td>\n",
       "      <td>At the end of the world, the adventure begins.</td>\n",
       "      <td>Pirates of the Caribbean: At World's End</td>\n",
       "      <td>6.9</td>\n",
       "      <td>4500.0</td>\n",
       "    </tr>\n",
       "    <tr>\n",
       "      <th>2</th>\n",
       "      <td>245000000.0</td>\n",
       "      <td>Action</td>\n",
       "      <td>http://www.sonypictures.com/movies/spectre/</td>\n",
       "      <td>206647.0</td>\n",
       "      <td>[{\"id\": 470, \"name\": \"spy\"}, {\"id\": 818, \"name...</td>\n",
       "      <td>en</td>\n",
       "      <td>Spectre</td>\n",
       "      <td>A cryptic message from Bond’s past sends him o...</td>\n",
       "      <td>107.376788</td>\n",
       "      <td>[{\"name\": \"Columbia Pictures\", \"id\": 5}, {\"nam...</td>\n",
       "      <td>United Kingdom</td>\n",
       "      <td>26-10-2015</td>\n",
       "      <td>8.806746e+08</td>\n",
       "      <td>148.0</td>\n",
       "      <td>[{\"iso_639_1\": \"fr\", \"name\": \"Fran\\u00e7ais\"},...</td>\n",
       "      <td>Released</td>\n",
       "      <td>A Plan No One Escapes</td>\n",
       "      <td>Spectre</td>\n",
       "      <td>6.3</td>\n",
       "      <td>4466.0</td>\n",
       "    </tr>\n",
       "    <tr>\n",
       "      <th>3</th>\n",
       "      <td>250000000.0</td>\n",
       "      <td>Action</td>\n",
       "      <td>http://www.thedarkknightrises.com/</td>\n",
       "      <td>49026.0</td>\n",
       "      <td>[{\"id\": 849, \"name\": \"dc comics\"}, {\"id\": 853,...</td>\n",
       "      <td>en</td>\n",
       "      <td>The Dark Knight Rises</td>\n",
       "      <td>Following the death of District Attorney Harve...</td>\n",
       "      <td>112.312950</td>\n",
       "      <td>[{\"name\": \"Legendary Pictures\", \"id\": 923}, {\"...</td>\n",
       "      <td>United States of America</td>\n",
       "      <td>16-07-2012</td>\n",
       "      <td>1.084939e+09</td>\n",
       "      <td>165.0</td>\n",
       "      <td>[{\"iso_639_1\": \"en\", \"name\": \"English\"}]</td>\n",
       "      <td>Released</td>\n",
       "      <td>The Legend Ends</td>\n",
       "      <td>The Dark Knight Rises</td>\n",
       "      <td>7.6</td>\n",
       "      <td>9106.0</td>\n",
       "    </tr>\n",
       "    <tr>\n",
       "      <th>4</th>\n",
       "      <td>260000000.0</td>\n",
       "      <td>Action</td>\n",
       "      <td>http://movies.disney.com/john-carter</td>\n",
       "      <td>49529.0</td>\n",
       "      <td>[{\"id\": 818, \"name\": \"based on novel\"}, {\"id\":...</td>\n",
       "      <td>en</td>\n",
       "      <td>John Carter</td>\n",
       "      <td>John Carter is a war-weary, former military ca...</td>\n",
       "      <td>43.926995</td>\n",
       "      <td>[{\"name\": \"Walt Disney Pictures\", \"id\": 2}]</td>\n",
       "      <td>United States of America</td>\n",
       "      <td>07-03-2012</td>\n",
       "      <td>2.841391e+08</td>\n",
       "      <td>132.0</td>\n",
       "      <td>[{\"iso_639_1\": \"en\", \"name\": \"English\"}]</td>\n",
       "      <td>Released</td>\n",
       "      <td>Lost in our world, found in another.</td>\n",
       "      <td>John Carter</td>\n",
       "      <td>6.1</td>\n",
       "      <td>2124.0</td>\n",
       "    </tr>\n",
       "    <tr>\n",
       "      <th>...</th>\n",
       "      <td>...</td>\n",
       "      <td>...</td>\n",
       "      <td>...</td>\n",
       "      <td>...</td>\n",
       "      <td>...</td>\n",
       "      <td>...</td>\n",
       "      <td>...</td>\n",
       "      <td>...</td>\n",
       "      <td>...</td>\n",
       "      <td>...</td>\n",
       "      <td>...</td>\n",
       "      <td>...</td>\n",
       "      <td>...</td>\n",
       "      <td>...</td>\n",
       "      <td>...</td>\n",
       "      <td>...</td>\n",
       "      <td>...</td>\n",
       "      <td>...</td>\n",
       "      <td>...</td>\n",
       "      <td>...</td>\n",
       "    </tr>\n",
       "    <tr>\n",
       "      <th>1048570</th>\n",
       "      <td>NaN</td>\n",
       "      <td>NaN</td>\n",
       "      <td>NaN</td>\n",
       "      <td>NaN</td>\n",
       "      <td>NaN</td>\n",
       "      <td>NaN</td>\n",
       "      <td>NaN</td>\n",
       "      <td>NaN</td>\n",
       "      <td>NaN</td>\n",
       "      <td>NaN</td>\n",
       "      <td>NaN</td>\n",
       "      <td>NaN</td>\n",
       "      <td>NaN</td>\n",
       "      <td>NaN</td>\n",
       "      <td>NaN</td>\n",
       "      <td>NaN</td>\n",
       "      <td>NaN</td>\n",
       "      <td>NaN</td>\n",
       "      <td>NaN</td>\n",
       "      <td>NaN</td>\n",
       "    </tr>\n",
       "    <tr>\n",
       "      <th>1048571</th>\n",
       "      <td>NaN</td>\n",
       "      <td>NaN</td>\n",
       "      <td>NaN</td>\n",
       "      <td>NaN</td>\n",
       "      <td>NaN</td>\n",
       "      <td>NaN</td>\n",
       "      <td>NaN</td>\n",
       "      <td>NaN</td>\n",
       "      <td>NaN</td>\n",
       "      <td>NaN</td>\n",
       "      <td>NaN</td>\n",
       "      <td>NaN</td>\n",
       "      <td>NaN</td>\n",
       "      <td>NaN</td>\n",
       "      <td>NaN</td>\n",
       "      <td>NaN</td>\n",
       "      <td>NaN</td>\n",
       "      <td>NaN</td>\n",
       "      <td>NaN</td>\n",
       "      <td>NaN</td>\n",
       "    </tr>\n",
       "    <tr>\n",
       "      <th>1048572</th>\n",
       "      <td>NaN</td>\n",
       "      <td>NaN</td>\n",
       "      <td>NaN</td>\n",
       "      <td>NaN</td>\n",
       "      <td>NaN</td>\n",
       "      <td>NaN</td>\n",
       "      <td>NaN</td>\n",
       "      <td>NaN</td>\n",
       "      <td>NaN</td>\n",
       "      <td>NaN</td>\n",
       "      <td>NaN</td>\n",
       "      <td>NaN</td>\n",
       "      <td>NaN</td>\n",
       "      <td>NaN</td>\n",
       "      <td>NaN</td>\n",
       "      <td>NaN</td>\n",
       "      <td>NaN</td>\n",
       "      <td>NaN</td>\n",
       "      <td>NaN</td>\n",
       "      <td>NaN</td>\n",
       "    </tr>\n",
       "    <tr>\n",
       "      <th>1048573</th>\n",
       "      <td>NaN</td>\n",
       "      <td>NaN</td>\n",
       "      <td>NaN</td>\n",
       "      <td>NaN</td>\n",
       "      <td>NaN</td>\n",
       "      <td>NaN</td>\n",
       "      <td>NaN</td>\n",
       "      <td>NaN</td>\n",
       "      <td>NaN</td>\n",
       "      <td>NaN</td>\n",
       "      <td>NaN</td>\n",
       "      <td>NaN</td>\n",
       "      <td>NaN</td>\n",
       "      <td>NaN</td>\n",
       "      <td>NaN</td>\n",
       "      <td>NaN</td>\n",
       "      <td>NaN</td>\n",
       "      <td>NaN</td>\n",
       "      <td>NaN</td>\n",
       "      <td>NaN</td>\n",
       "    </tr>\n",
       "    <tr>\n",
       "      <th>1048574</th>\n",
       "      <td>NaN</td>\n",
       "      <td>NaN</td>\n",
       "      <td>NaN</td>\n",
       "      <td>NaN</td>\n",
       "      <td>NaN</td>\n",
       "      <td>NaN</td>\n",
       "      <td>NaN</td>\n",
       "      <td>NaN</td>\n",
       "      <td>NaN</td>\n",
       "      <td>NaN</td>\n",
       "      <td>NaN</td>\n",
       "      <td>NaN</td>\n",
       "      <td>NaN</td>\n",
       "      <td>NaN</td>\n",
       "      <td>NaN</td>\n",
       "      <td>NaN</td>\n",
       "      <td>NaN</td>\n",
       "      <td>NaN</td>\n",
       "      <td>NaN</td>\n",
       "      <td>NaN</td>\n",
       "    </tr>\n",
       "  </tbody>\n",
       "</table>\n",
       "<p>1048575 rows × 20 columns</p>\n",
       "</div>"
      ],
      "text/plain": [
       "              budget     Genres                                      homepage  \\\n",
       "0        237000000.0     Action                   http://www.avatarmovie.com/   \n",
       "1        300000000.0  Adventure  http://disney.go.com/disneypictures/pirates/   \n",
       "2        245000000.0     Action   http://www.sonypictures.com/movies/spectre/   \n",
       "3        250000000.0     Action            http://www.thedarkknightrises.com/   \n",
       "4        260000000.0     Action          http://movies.disney.com/john-carter   \n",
       "...              ...        ...                                           ...   \n",
       "1048570          NaN        NaN                                           NaN   \n",
       "1048571          NaN        NaN                                           NaN   \n",
       "1048572          NaN        NaN                                           NaN   \n",
       "1048573          NaN        NaN                                           NaN   \n",
       "1048574          NaN        NaN                                           NaN   \n",
       "\n",
       "               id                                           keywords  \\\n",
       "0         19995.0  [{\"id\": 1463, \"name\": \"culture clash\"}, {\"id\":...   \n",
       "1           285.0  [{\"id\": 270, \"name\": \"ocean\"}, {\"id\": 726, \"na...   \n",
       "2        206647.0  [{\"id\": 470, \"name\": \"spy\"}, {\"id\": 818, \"name...   \n",
       "3         49026.0  [{\"id\": 849, \"name\": \"dc comics\"}, {\"id\": 853,...   \n",
       "4         49529.0  [{\"id\": 818, \"name\": \"based on novel\"}, {\"id\":...   \n",
       "...           ...                                                ...   \n",
       "1048570       NaN                                                NaN   \n",
       "1048571       NaN                                                NaN   \n",
       "1048572       NaN                                                NaN   \n",
       "1048573       NaN                                                NaN   \n",
       "1048574       NaN                                                NaN   \n",
       "\n",
       "        original_language                            original_title  \\\n",
       "0                      en                                    Avatar   \n",
       "1                      en  Pirates of the Caribbean: At World's End   \n",
       "2                      en                                   Spectre   \n",
       "3                      en                     The Dark Knight Rises   \n",
       "4                      en                               John Carter   \n",
       "...                   ...                                       ...   \n",
       "1048570               NaN                                       NaN   \n",
       "1048571               NaN                                       NaN   \n",
       "1048572               NaN                                       NaN   \n",
       "1048573               NaN                                       NaN   \n",
       "1048574               NaN                                       NaN   \n",
       "\n",
       "                                                  overview  popularity  \\\n",
       "0        In the 22nd century, a paraplegic Marine is di...  150.437577   \n",
       "1        Captain Barbossa, long believed to be dead, ha...  139.082615   \n",
       "2        A cryptic message from Bond’s past sends him o...  107.376788   \n",
       "3        Following the death of District Attorney Harve...  112.312950   \n",
       "4        John Carter is a war-weary, former military ca...   43.926995   \n",
       "...                                                    ...         ...   \n",
       "1048570                                                NaN         NaN   \n",
       "1048571                                                NaN         NaN   \n",
       "1048572                                                NaN         NaN   \n",
       "1048573                                                NaN         NaN   \n",
       "1048574                                                NaN         NaN   \n",
       "\n",
       "                                      production_companies  \\\n",
       "0        [{\"name\": \"Ingenious Film Partners\", \"id\": 289...   \n",
       "1        [{\"name\": \"Walt Disney Pictures\", \"id\": 2}, {\"...   \n",
       "2        [{\"name\": \"Columbia Pictures\", \"id\": 5}, {\"nam...   \n",
       "3        [{\"name\": \"Legendary Pictures\", \"id\": 923}, {\"...   \n",
       "4              [{\"name\": \"Walt Disney Pictures\", \"id\": 2}]   \n",
       "...                                                    ...   \n",
       "1048570                                                NaN   \n",
       "1048571                                                NaN   \n",
       "1048572                                                NaN   \n",
       "1048573                                                NaN   \n",
       "1048574                                                NaN   \n",
       "\n",
       "             production_countries release_date       revenue  runtime  \\\n",
       "0        United States of America   10-12-2009  2.787965e+09    162.0   \n",
       "1        United States of America   19-05-2007  9.610000e+08    169.0   \n",
       "2                  United Kingdom   26-10-2015  8.806746e+08    148.0   \n",
       "3        United States of America   16-07-2012  1.084939e+09    165.0   \n",
       "4        United States of America   07-03-2012  2.841391e+08    132.0   \n",
       "...                           ...          ...           ...      ...   \n",
       "1048570                       NaN          NaN           NaN      NaN   \n",
       "1048571                       NaN          NaN           NaN      NaN   \n",
       "1048572                       NaN          NaN           NaN      NaN   \n",
       "1048573                       NaN          NaN           NaN      NaN   \n",
       "1048574                       NaN          NaN           NaN      NaN   \n",
       "\n",
       "                                          spoken_languages    status  \\\n",
       "0        [{\"iso_639_1\": \"en\", \"name\": \"English\"}, {\"iso...  Released   \n",
       "1                 [{\"iso_639_1\": \"en\", \"name\": \"English\"}]  Released   \n",
       "2        [{\"iso_639_1\": \"fr\", \"name\": \"Fran\\u00e7ais\"},...  Released   \n",
       "3                 [{\"iso_639_1\": \"en\", \"name\": \"English\"}]  Released   \n",
       "4                 [{\"iso_639_1\": \"en\", \"name\": \"English\"}]  Released   \n",
       "...                                                    ...       ...   \n",
       "1048570                                                NaN       NaN   \n",
       "1048571                                                NaN       NaN   \n",
       "1048572                                                NaN       NaN   \n",
       "1048573                                                NaN       NaN   \n",
       "1048574                                                NaN       NaN   \n",
       "\n",
       "                                                tagline  \\\n",
       "0                           Enter the World of Pandora.   \n",
       "1        At the end of the world, the adventure begins.   \n",
       "2                                 A Plan No One Escapes   \n",
       "3                                       The Legend Ends   \n",
       "4                  Lost in our world, found in another.   \n",
       "...                                                 ...   \n",
       "1048570                                             NaN   \n",
       "1048571                                             NaN   \n",
       "1048572                                             NaN   \n",
       "1048573                                             NaN   \n",
       "1048574                                             NaN   \n",
       "\n",
       "                                            title  vote_average  vote_count  \n",
       "0                                          Avatar           7.2     11800.0  \n",
       "1        Pirates of the Caribbean: At World's End           6.9      4500.0  \n",
       "2                                         Spectre           6.3      4466.0  \n",
       "3                           The Dark Knight Rises           7.6      9106.0  \n",
       "4                                     John Carter           6.1      2124.0  \n",
       "...                                           ...           ...         ...  \n",
       "1048570                                       NaN           NaN         NaN  \n",
       "1048571                                       NaN           NaN         NaN  \n",
       "1048572                                       NaN           NaN         NaN  \n",
       "1048573                                       NaN           NaN         NaN  \n",
       "1048574                                       NaN           NaN         NaN  \n",
       "\n",
       "[1048575 rows x 20 columns]"
      ]
     },
     "execution_count": 3,
     "metadata": {},
     "output_type": "execute_result"
    }
   ],
   "source": [
    "df"
   ]
  },
  {
   "cell_type": "code",
   "execution_count": 4,
   "id": "0622f6ef",
   "metadata": {},
   "outputs": [
    {
     "data": {
      "text/plain": [
       "(1048575, 20)"
      ]
     },
     "execution_count": 4,
     "metadata": {},
     "output_type": "execute_result"
    }
   ],
   "source": [
    "df.shape"
   ]
  },
  {
   "cell_type": "code",
   "execution_count": 5,
   "id": "efc9c389",
   "metadata": {},
   "outputs": [
    {
     "data": {
      "text/plain": [
       "Index(['budget', 'Genres', 'homepage', 'id', 'keywords', 'original_language',\n",
       "       'original_title', 'overview', 'popularity', 'production_companies',\n",
       "       'production_countries', 'release_date', 'revenue', 'runtime',\n",
       "       'spoken_languages', 'status', 'tagline', 'title', 'vote_average',\n",
       "       'vote_count'],\n",
       "      dtype='object')"
      ]
     },
     "execution_count": 5,
     "metadata": {},
     "output_type": "execute_result"
    }
   ],
   "source": [
    "df.columns"
   ]
  },
  {
   "cell_type": "code",
   "execution_count": 6,
   "id": "de57d8b0",
   "metadata": {},
   "outputs": [],
   "source": [
    "df.drop(columns={'homepage', 'id',\n",
    "                'keywords', 'original_language','overview','production_companies','spoken_languages','tagline'}, inplace = True)"
   ]
  },
  {
   "cell_type": "code",
   "execution_count": 7,
   "id": "6e0df89f",
   "metadata": {},
   "outputs": [
    {
     "data": {
      "text/html": [
       "<div>\n",
       "<style scoped>\n",
       "    .dataframe tbody tr th:only-of-type {\n",
       "        vertical-align: middle;\n",
       "    }\n",
       "\n",
       "    .dataframe tbody tr th {\n",
       "        vertical-align: top;\n",
       "    }\n",
       "\n",
       "    .dataframe thead th {\n",
       "        text-align: right;\n",
       "    }\n",
       "</style>\n",
       "<table border=\"1\" class=\"dataframe\">\n",
       "  <thead>\n",
       "    <tr style=\"text-align: right;\">\n",
       "      <th></th>\n",
       "      <th>budget</th>\n",
       "      <th>Genres</th>\n",
       "      <th>original_title</th>\n",
       "      <th>popularity</th>\n",
       "      <th>production_countries</th>\n",
       "      <th>release_date</th>\n",
       "      <th>revenue</th>\n",
       "      <th>runtime</th>\n",
       "      <th>status</th>\n",
       "      <th>title</th>\n",
       "      <th>vote_average</th>\n",
       "      <th>vote_count</th>\n",
       "    </tr>\n",
       "  </thead>\n",
       "  <tbody>\n",
       "    <tr>\n",
       "      <th>0</th>\n",
       "      <td>237000000.0</td>\n",
       "      <td>Action</td>\n",
       "      <td>Avatar</td>\n",
       "      <td>150.437577</td>\n",
       "      <td>United States of America</td>\n",
       "      <td>10-12-2009</td>\n",
       "      <td>2.787965e+09</td>\n",
       "      <td>162.0</td>\n",
       "      <td>Released</td>\n",
       "      <td>Avatar</td>\n",
       "      <td>7.2</td>\n",
       "      <td>11800.0</td>\n",
       "    </tr>\n",
       "    <tr>\n",
       "      <th>1</th>\n",
       "      <td>300000000.0</td>\n",
       "      <td>Adventure</td>\n",
       "      <td>Pirates of the Caribbean: At World's End</td>\n",
       "      <td>139.082615</td>\n",
       "      <td>United States of America</td>\n",
       "      <td>19-05-2007</td>\n",
       "      <td>9.610000e+08</td>\n",
       "      <td>169.0</td>\n",
       "      <td>Released</td>\n",
       "      <td>Pirates of the Caribbean: At World's End</td>\n",
       "      <td>6.9</td>\n",
       "      <td>4500.0</td>\n",
       "    </tr>\n",
       "    <tr>\n",
       "      <th>2</th>\n",
       "      <td>245000000.0</td>\n",
       "      <td>Action</td>\n",
       "      <td>Spectre</td>\n",
       "      <td>107.376788</td>\n",
       "      <td>United Kingdom</td>\n",
       "      <td>26-10-2015</td>\n",
       "      <td>8.806746e+08</td>\n",
       "      <td>148.0</td>\n",
       "      <td>Released</td>\n",
       "      <td>Spectre</td>\n",
       "      <td>6.3</td>\n",
       "      <td>4466.0</td>\n",
       "    </tr>\n",
       "    <tr>\n",
       "      <th>3</th>\n",
       "      <td>250000000.0</td>\n",
       "      <td>Action</td>\n",
       "      <td>The Dark Knight Rises</td>\n",
       "      <td>112.312950</td>\n",
       "      <td>United States of America</td>\n",
       "      <td>16-07-2012</td>\n",
       "      <td>1.084939e+09</td>\n",
       "      <td>165.0</td>\n",
       "      <td>Released</td>\n",
       "      <td>The Dark Knight Rises</td>\n",
       "      <td>7.6</td>\n",
       "      <td>9106.0</td>\n",
       "    </tr>\n",
       "    <tr>\n",
       "      <th>4</th>\n",
       "      <td>260000000.0</td>\n",
       "      <td>Action</td>\n",
       "      <td>John Carter</td>\n",
       "      <td>43.926995</td>\n",
       "      <td>United States of America</td>\n",
       "      <td>07-03-2012</td>\n",
       "      <td>2.841391e+08</td>\n",
       "      <td>132.0</td>\n",
       "      <td>Released</td>\n",
       "      <td>John Carter</td>\n",
       "      <td>6.1</td>\n",
       "      <td>2124.0</td>\n",
       "    </tr>\n",
       "    <tr>\n",
       "      <th>...</th>\n",
       "      <td>...</td>\n",
       "      <td>...</td>\n",
       "      <td>...</td>\n",
       "      <td>...</td>\n",
       "      <td>...</td>\n",
       "      <td>...</td>\n",
       "      <td>...</td>\n",
       "      <td>...</td>\n",
       "      <td>...</td>\n",
       "      <td>...</td>\n",
       "      <td>...</td>\n",
       "      <td>...</td>\n",
       "    </tr>\n",
       "    <tr>\n",
       "      <th>1048570</th>\n",
       "      <td>NaN</td>\n",
       "      <td>NaN</td>\n",
       "      <td>NaN</td>\n",
       "      <td>NaN</td>\n",
       "      <td>NaN</td>\n",
       "      <td>NaN</td>\n",
       "      <td>NaN</td>\n",
       "      <td>NaN</td>\n",
       "      <td>NaN</td>\n",
       "      <td>NaN</td>\n",
       "      <td>NaN</td>\n",
       "      <td>NaN</td>\n",
       "    </tr>\n",
       "    <tr>\n",
       "      <th>1048571</th>\n",
       "      <td>NaN</td>\n",
       "      <td>NaN</td>\n",
       "      <td>NaN</td>\n",
       "      <td>NaN</td>\n",
       "      <td>NaN</td>\n",
       "      <td>NaN</td>\n",
       "      <td>NaN</td>\n",
       "      <td>NaN</td>\n",
       "      <td>NaN</td>\n",
       "      <td>NaN</td>\n",
       "      <td>NaN</td>\n",
       "      <td>NaN</td>\n",
       "    </tr>\n",
       "    <tr>\n",
       "      <th>1048572</th>\n",
       "      <td>NaN</td>\n",
       "      <td>NaN</td>\n",
       "      <td>NaN</td>\n",
       "      <td>NaN</td>\n",
       "      <td>NaN</td>\n",
       "      <td>NaN</td>\n",
       "      <td>NaN</td>\n",
       "      <td>NaN</td>\n",
       "      <td>NaN</td>\n",
       "      <td>NaN</td>\n",
       "      <td>NaN</td>\n",
       "      <td>NaN</td>\n",
       "    </tr>\n",
       "    <tr>\n",
       "      <th>1048573</th>\n",
       "      <td>NaN</td>\n",
       "      <td>NaN</td>\n",
       "      <td>NaN</td>\n",
       "      <td>NaN</td>\n",
       "      <td>NaN</td>\n",
       "      <td>NaN</td>\n",
       "      <td>NaN</td>\n",
       "      <td>NaN</td>\n",
       "      <td>NaN</td>\n",
       "      <td>NaN</td>\n",
       "      <td>NaN</td>\n",
       "      <td>NaN</td>\n",
       "    </tr>\n",
       "    <tr>\n",
       "      <th>1048574</th>\n",
       "      <td>NaN</td>\n",
       "      <td>NaN</td>\n",
       "      <td>NaN</td>\n",
       "      <td>NaN</td>\n",
       "      <td>NaN</td>\n",
       "      <td>NaN</td>\n",
       "      <td>NaN</td>\n",
       "      <td>NaN</td>\n",
       "      <td>NaN</td>\n",
       "      <td>NaN</td>\n",
       "      <td>NaN</td>\n",
       "      <td>NaN</td>\n",
       "    </tr>\n",
       "  </tbody>\n",
       "</table>\n",
       "<p>1048575 rows × 12 columns</p>\n",
       "</div>"
      ],
      "text/plain": [
       "              budget     Genres                            original_title  \\\n",
       "0        237000000.0     Action                                    Avatar   \n",
       "1        300000000.0  Adventure  Pirates of the Caribbean: At World's End   \n",
       "2        245000000.0     Action                                   Spectre   \n",
       "3        250000000.0     Action                     The Dark Knight Rises   \n",
       "4        260000000.0     Action                               John Carter   \n",
       "...              ...        ...                                       ...   \n",
       "1048570          NaN        NaN                                       NaN   \n",
       "1048571          NaN        NaN                                       NaN   \n",
       "1048572          NaN        NaN                                       NaN   \n",
       "1048573          NaN        NaN                                       NaN   \n",
       "1048574          NaN        NaN                                       NaN   \n",
       "\n",
       "         popularity      production_countries release_date       revenue  \\\n",
       "0        150.437577  United States of America   10-12-2009  2.787965e+09   \n",
       "1        139.082615  United States of America   19-05-2007  9.610000e+08   \n",
       "2        107.376788            United Kingdom   26-10-2015  8.806746e+08   \n",
       "3        112.312950  United States of America   16-07-2012  1.084939e+09   \n",
       "4         43.926995  United States of America   07-03-2012  2.841391e+08   \n",
       "...             ...                       ...          ...           ...   \n",
       "1048570         NaN                       NaN          NaN           NaN   \n",
       "1048571         NaN                       NaN          NaN           NaN   \n",
       "1048572         NaN                       NaN          NaN           NaN   \n",
       "1048573         NaN                       NaN          NaN           NaN   \n",
       "1048574         NaN                       NaN          NaN           NaN   \n",
       "\n",
       "         runtime    status                                     title  \\\n",
       "0          162.0  Released                                    Avatar   \n",
       "1          169.0  Released  Pirates of the Caribbean: At World's End   \n",
       "2          148.0  Released                                   Spectre   \n",
       "3          165.0  Released                     The Dark Knight Rises   \n",
       "4          132.0  Released                               John Carter   \n",
       "...          ...       ...                                       ...   \n",
       "1048570      NaN       NaN                                       NaN   \n",
       "1048571      NaN       NaN                                       NaN   \n",
       "1048572      NaN       NaN                                       NaN   \n",
       "1048573      NaN       NaN                                       NaN   \n",
       "1048574      NaN       NaN                                       NaN   \n",
       "\n",
       "         vote_average  vote_count  \n",
       "0                 7.2     11800.0  \n",
       "1                 6.9      4500.0  \n",
       "2                 6.3      4466.0  \n",
       "3                 7.6      9106.0  \n",
       "4                 6.1      2124.0  \n",
       "...               ...         ...  \n",
       "1048570           NaN         NaN  \n",
       "1048571           NaN         NaN  \n",
       "1048572           NaN         NaN  \n",
       "1048573           NaN         NaN  \n",
       "1048574           NaN         NaN  \n",
       "\n",
       "[1048575 rows x 12 columns]"
      ]
     },
     "execution_count": 7,
     "metadata": {},
     "output_type": "execute_result"
    }
   ],
   "source": [
    "df"
   ]
  },
  {
   "cell_type": "code",
   "execution_count": 8,
   "id": "9e97d20a",
   "metadata": {},
   "outputs": [
    {
     "data": {
      "text/plain": [
       "Index(['budget', 'Genres', 'original_title', 'popularity',\n",
       "       'production_countries', 'release_date', 'revenue', 'runtime', 'status',\n",
       "       'title', 'vote_average', 'vote_count'],\n",
       "      dtype='object')"
      ]
     },
     "execution_count": 8,
     "metadata": {},
     "output_type": "execute_result"
    }
   ],
   "source": [
    "df.columns "
   ]
  },
  {
   "cell_type": "code",
   "execution_count": 9,
   "id": "a2b60863",
   "metadata": {},
   "outputs": [],
   "source": [
    "df.drop(columns= { 'status','original_title','release_date','title'}, inplace = True )"
   ]
  },
  {
   "cell_type": "code",
   "execution_count": 10,
   "id": "a1fad52e",
   "metadata": {},
   "outputs": [
    {
     "data": {
      "text/html": [
       "<div>\n",
       "<style scoped>\n",
       "    .dataframe tbody tr th:only-of-type {\n",
       "        vertical-align: middle;\n",
       "    }\n",
       "\n",
       "    .dataframe tbody tr th {\n",
       "        vertical-align: top;\n",
       "    }\n",
       "\n",
       "    .dataframe thead th {\n",
       "        text-align: right;\n",
       "    }\n",
       "</style>\n",
       "<table border=\"1\" class=\"dataframe\">\n",
       "  <thead>\n",
       "    <tr style=\"text-align: right;\">\n",
       "      <th></th>\n",
       "      <th>budget</th>\n",
       "      <th>Genres</th>\n",
       "      <th>popularity</th>\n",
       "      <th>production_countries</th>\n",
       "      <th>revenue</th>\n",
       "      <th>runtime</th>\n",
       "      <th>vote_average</th>\n",
       "      <th>vote_count</th>\n",
       "    </tr>\n",
       "  </thead>\n",
       "  <tbody>\n",
       "    <tr>\n",
       "      <th>0</th>\n",
       "      <td>237000000.0</td>\n",
       "      <td>Action</td>\n",
       "      <td>150.437577</td>\n",
       "      <td>United States of America</td>\n",
       "      <td>2.787965e+09</td>\n",
       "      <td>162.0</td>\n",
       "      <td>7.2</td>\n",
       "      <td>11800.0</td>\n",
       "    </tr>\n",
       "    <tr>\n",
       "      <th>1</th>\n",
       "      <td>300000000.0</td>\n",
       "      <td>Adventure</td>\n",
       "      <td>139.082615</td>\n",
       "      <td>United States of America</td>\n",
       "      <td>9.610000e+08</td>\n",
       "      <td>169.0</td>\n",
       "      <td>6.9</td>\n",
       "      <td>4500.0</td>\n",
       "    </tr>\n",
       "    <tr>\n",
       "      <th>2</th>\n",
       "      <td>245000000.0</td>\n",
       "      <td>Action</td>\n",
       "      <td>107.376788</td>\n",
       "      <td>United Kingdom</td>\n",
       "      <td>8.806746e+08</td>\n",
       "      <td>148.0</td>\n",
       "      <td>6.3</td>\n",
       "      <td>4466.0</td>\n",
       "    </tr>\n",
       "    <tr>\n",
       "      <th>3</th>\n",
       "      <td>250000000.0</td>\n",
       "      <td>Action</td>\n",
       "      <td>112.312950</td>\n",
       "      <td>United States of America</td>\n",
       "      <td>1.084939e+09</td>\n",
       "      <td>165.0</td>\n",
       "      <td>7.6</td>\n",
       "      <td>9106.0</td>\n",
       "    </tr>\n",
       "    <tr>\n",
       "      <th>4</th>\n",
       "      <td>260000000.0</td>\n",
       "      <td>Action</td>\n",
       "      <td>43.926995</td>\n",
       "      <td>United States of America</td>\n",
       "      <td>2.841391e+08</td>\n",
       "      <td>132.0</td>\n",
       "      <td>6.1</td>\n",
       "      <td>2124.0</td>\n",
       "    </tr>\n",
       "    <tr>\n",
       "      <th>...</th>\n",
       "      <td>...</td>\n",
       "      <td>...</td>\n",
       "      <td>...</td>\n",
       "      <td>...</td>\n",
       "      <td>...</td>\n",
       "      <td>...</td>\n",
       "      <td>...</td>\n",
       "      <td>...</td>\n",
       "    </tr>\n",
       "    <tr>\n",
       "      <th>1048570</th>\n",
       "      <td>NaN</td>\n",
       "      <td>NaN</td>\n",
       "      <td>NaN</td>\n",
       "      <td>NaN</td>\n",
       "      <td>NaN</td>\n",
       "      <td>NaN</td>\n",
       "      <td>NaN</td>\n",
       "      <td>NaN</td>\n",
       "    </tr>\n",
       "    <tr>\n",
       "      <th>1048571</th>\n",
       "      <td>NaN</td>\n",
       "      <td>NaN</td>\n",
       "      <td>NaN</td>\n",
       "      <td>NaN</td>\n",
       "      <td>NaN</td>\n",
       "      <td>NaN</td>\n",
       "      <td>NaN</td>\n",
       "      <td>NaN</td>\n",
       "    </tr>\n",
       "    <tr>\n",
       "      <th>1048572</th>\n",
       "      <td>NaN</td>\n",
       "      <td>NaN</td>\n",
       "      <td>NaN</td>\n",
       "      <td>NaN</td>\n",
       "      <td>NaN</td>\n",
       "      <td>NaN</td>\n",
       "      <td>NaN</td>\n",
       "      <td>NaN</td>\n",
       "    </tr>\n",
       "    <tr>\n",
       "      <th>1048573</th>\n",
       "      <td>NaN</td>\n",
       "      <td>NaN</td>\n",
       "      <td>NaN</td>\n",
       "      <td>NaN</td>\n",
       "      <td>NaN</td>\n",
       "      <td>NaN</td>\n",
       "      <td>NaN</td>\n",
       "      <td>NaN</td>\n",
       "    </tr>\n",
       "    <tr>\n",
       "      <th>1048574</th>\n",
       "      <td>NaN</td>\n",
       "      <td>NaN</td>\n",
       "      <td>NaN</td>\n",
       "      <td>NaN</td>\n",
       "      <td>NaN</td>\n",
       "      <td>NaN</td>\n",
       "      <td>NaN</td>\n",
       "      <td>NaN</td>\n",
       "    </tr>\n",
       "  </tbody>\n",
       "</table>\n",
       "<p>1048575 rows × 8 columns</p>\n",
       "</div>"
      ],
      "text/plain": [
       "              budget     Genres  popularity      production_countries  \\\n",
       "0        237000000.0     Action  150.437577  United States of America   \n",
       "1        300000000.0  Adventure  139.082615  United States of America   \n",
       "2        245000000.0     Action  107.376788            United Kingdom   \n",
       "3        250000000.0     Action  112.312950  United States of America   \n",
       "4        260000000.0     Action   43.926995  United States of America   \n",
       "...              ...        ...         ...                       ...   \n",
       "1048570          NaN        NaN         NaN                       NaN   \n",
       "1048571          NaN        NaN         NaN                       NaN   \n",
       "1048572          NaN        NaN         NaN                       NaN   \n",
       "1048573          NaN        NaN         NaN                       NaN   \n",
       "1048574          NaN        NaN         NaN                       NaN   \n",
       "\n",
       "              revenue  runtime  vote_average  vote_count  \n",
       "0        2.787965e+09    162.0           7.2     11800.0  \n",
       "1        9.610000e+08    169.0           6.9      4500.0  \n",
       "2        8.806746e+08    148.0           6.3      4466.0  \n",
       "3        1.084939e+09    165.0           7.6      9106.0  \n",
       "4        2.841391e+08    132.0           6.1      2124.0  \n",
       "...               ...      ...           ...         ...  \n",
       "1048570           NaN      NaN           NaN         NaN  \n",
       "1048571           NaN      NaN           NaN         NaN  \n",
       "1048572           NaN      NaN           NaN         NaN  \n",
       "1048573           NaN      NaN           NaN         NaN  \n",
       "1048574           NaN      NaN           NaN         NaN  \n",
       "\n",
       "[1048575 rows x 8 columns]"
      ]
     },
     "execution_count": 10,
     "metadata": {},
     "output_type": "execute_result"
    }
   ],
   "source": [
    "df"
   ]
  },
  {
   "cell_type": "code",
   "execution_count": 11,
   "id": "6dc85995",
   "metadata": {},
   "outputs": [
    {
     "data": {
      "text/html": [
       "<div>\n",
       "<style scoped>\n",
       "    .dataframe tbody tr th:only-of-type {\n",
       "        vertical-align: middle;\n",
       "    }\n",
       "\n",
       "    .dataframe tbody tr th {\n",
       "        vertical-align: top;\n",
       "    }\n",
       "\n",
       "    .dataframe thead th {\n",
       "        text-align: right;\n",
       "    }\n",
       "</style>\n",
       "<table border=\"1\" class=\"dataframe\">\n",
       "  <thead>\n",
       "    <tr style=\"text-align: right;\">\n",
       "      <th></th>\n",
       "      <th>budget</th>\n",
       "      <th>Genres</th>\n",
       "      <th>popularity</th>\n",
       "      <th>production_countries</th>\n",
       "      <th>revenue</th>\n",
       "      <th>runtime</th>\n",
       "      <th>vote_average</th>\n",
       "      <th>vote_count</th>\n",
       "    </tr>\n",
       "  </thead>\n",
       "  <tbody>\n",
       "    <tr>\n",
       "      <th>0</th>\n",
       "      <td>237000000.0</td>\n",
       "      <td>Action</td>\n",
       "      <td>150.437577</td>\n",
       "      <td>United States of America</td>\n",
       "      <td>2.787965e+09</td>\n",
       "      <td>162.0</td>\n",
       "      <td>7.2</td>\n",
       "      <td>11800.0</td>\n",
       "    </tr>\n",
       "    <tr>\n",
       "      <th>1</th>\n",
       "      <td>300000000.0</td>\n",
       "      <td>Adventure</td>\n",
       "      <td>139.082615</td>\n",
       "      <td>United States of America</td>\n",
       "      <td>9.610000e+08</td>\n",
       "      <td>169.0</td>\n",
       "      <td>6.9</td>\n",
       "      <td>4500.0</td>\n",
       "    </tr>\n",
       "    <tr>\n",
       "      <th>2</th>\n",
       "      <td>245000000.0</td>\n",
       "      <td>Action</td>\n",
       "      <td>107.376788</td>\n",
       "      <td>United Kingdom</td>\n",
       "      <td>8.806746e+08</td>\n",
       "      <td>148.0</td>\n",
       "      <td>6.3</td>\n",
       "      <td>4466.0</td>\n",
       "    </tr>\n",
       "    <tr>\n",
       "      <th>3</th>\n",
       "      <td>250000000.0</td>\n",
       "      <td>Action</td>\n",
       "      <td>112.312950</td>\n",
       "      <td>United States of America</td>\n",
       "      <td>1.084939e+09</td>\n",
       "      <td>165.0</td>\n",
       "      <td>7.6</td>\n",
       "      <td>9106.0</td>\n",
       "    </tr>\n",
       "    <tr>\n",
       "      <th>4</th>\n",
       "      <td>260000000.0</td>\n",
       "      <td>Action</td>\n",
       "      <td>43.926995</td>\n",
       "      <td>United States of America</td>\n",
       "      <td>2.841391e+08</td>\n",
       "      <td>132.0</td>\n",
       "      <td>6.1</td>\n",
       "      <td>2124.0</td>\n",
       "    </tr>\n",
       "  </tbody>\n",
       "</table>\n",
       "</div>"
      ],
      "text/plain": [
       "        budget     Genres  popularity      production_countries       revenue  \\\n",
       "0  237000000.0     Action  150.437577  United States of America  2.787965e+09   \n",
       "1  300000000.0  Adventure  139.082615  United States of America  9.610000e+08   \n",
       "2  245000000.0     Action  107.376788            United Kingdom  8.806746e+08   \n",
       "3  250000000.0     Action  112.312950  United States of America  1.084939e+09   \n",
       "4  260000000.0     Action   43.926995  United States of America  2.841391e+08   \n",
       "\n",
       "   runtime  vote_average  vote_count  \n",
       "0    162.0           7.2     11800.0  \n",
       "1    169.0           6.9      4500.0  \n",
       "2    148.0           6.3      4466.0  \n",
       "3    165.0           7.6      9106.0  \n",
       "4    132.0           6.1      2124.0  "
      ]
     },
     "execution_count": 11,
     "metadata": {},
     "output_type": "execute_result"
    }
   ],
   "source": [
    "df.head()"
   ]
  },
  {
   "cell_type": "code",
   "execution_count": 12,
   "id": "f5810cc7",
   "metadata": {},
   "outputs": [
    {
     "data": {
      "text/plain": [
       "budget                  1043772\n",
       "Genres                  1043800\n",
       "popularity              1043772\n",
       "production_countries    1043946\n",
       "revenue                 1043772\n",
       "runtime                 1043774\n",
       "vote_average            1043772\n",
       "vote_count              1043772\n",
       "dtype: int64"
      ]
     },
     "execution_count": 12,
     "metadata": {},
     "output_type": "execute_result"
    }
   ],
   "source": [
    "pd.isnull(df).sum()"
   ]
  },
  {
   "cell_type": "code",
   "execution_count": 91,
   "id": "954d753f",
   "metadata": {},
   "outputs": [],
   "source": [
    "df.dropna(inplace = True) ## dropping null values and saving them"
   ]
  },
  {
   "cell_type": "code",
   "execution_count": 14,
   "id": "850cba44",
   "metadata": {},
   "outputs": [
    {
     "data": {
      "text/plain": [
       "(4620, 8)"
      ]
     },
     "execution_count": 14,
     "metadata": {},
     "output_type": "execute_result"
    }
   ],
   "source": [
    "df.shape"
   ]
  },
  {
   "cell_type": "code",
   "execution_count": 15,
   "id": "6b1b216e",
   "metadata": {},
   "outputs": [
    {
     "data": {
      "text/plain": [
       "<bound method DataFrame.info of            budget           Genres  popularity      production_countries  \\\n",
       "0     237000000.0           Action  150.437577  United States of America   \n",
       "1     300000000.0        Adventure  139.082615  United States of America   \n",
       "2     245000000.0           Action  107.376788            United Kingdom   \n",
       "3     250000000.0           Action  112.312950  United States of America   \n",
       "4     260000000.0           Action   43.926995  United States of America   \n",
       "...           ...              ...         ...                       ...   \n",
       "4795          0.0            Drama    0.918116  United States of America   \n",
       "4796       7000.0  Science Fiction   23.307949  United States of America   \n",
       "4798     220000.0           Action   14.269792                    Mexico   \n",
       "4800          0.0           Comedy    1.444476  United States of America   \n",
       "4802          0.0      Documentary    1.929883  United States of America   \n",
       "\n",
       "           revenue  runtime  vote_average  vote_count  \n",
       "0     2.787965e+09    162.0           7.2     11800.0  \n",
       "1     9.610000e+08    169.0           6.9      4500.0  \n",
       "2     8.806746e+08    148.0           6.3      4466.0  \n",
       "3     1.084939e+09    165.0           7.6      9106.0  \n",
       "4     2.841391e+08    132.0           6.1      2124.0  \n",
       "...            ...      ...           ...         ...  \n",
       "4795  0.000000e+00     98.0           6.0         1.0  \n",
       "4796  4.247600e+05     77.0           6.9       658.0  \n",
       "4798  2.040920e+06     81.0           6.6       238.0  \n",
       "4800  0.000000e+00    120.0           7.0         6.0  \n",
       "4802  0.000000e+00     90.0           6.3        16.0  \n",
       "\n",
       "[4620 rows x 8 columns]>"
      ]
     },
     "execution_count": 15,
     "metadata": {},
     "output_type": "execute_result"
    }
   ],
   "source": [
    "df.info"
   ]
  },
  {
   "cell_type": "code",
   "execution_count": null,
   "id": "2d0f4717",
   "metadata": {},
   "outputs": [],
   "source": [
    "## Taking Production_countries for analysis"
   ]
  },
  {
   "cell_type": "code",
   "execution_count": 16,
   "id": "e089adb5",
   "metadata": {},
   "outputs": [
    {
     "data": {
      "text/plain": [
       "0       United States of America\n",
       "1       United States of America\n",
       "2                 United Kingdom\n",
       "3       United States of America\n",
       "4       United States of America\n",
       "                  ...           \n",
       "4795    United States of America\n",
       "4796    United States of America\n",
       "4798                      Mexico\n",
       "4800    United States of America\n",
       "4802    United States of America\n",
       "Name: production_countries, Length: 4620, dtype: object"
      ]
     },
     "execution_count": 16,
     "metadata": {},
     "output_type": "execute_result"
    }
   ],
   "source": [
    "df.production_countries  "
   ]
  },
  {
   "cell_type": "code",
   "execution_count": 17,
   "id": "3170ff69",
   "metadata": {},
   "outputs": [
    {
     "data": {
      "text/plain": [
       "array(['United States of America', 'United Kingdom', 'Jamaica',\n",
       "       'Czech Republic', 'New Zealand', 'China', 'Canada', 'Germany',\n",
       "       'Japan', 'France', 'Australia', 'Italy', 'Spain', 'India',\n",
       "       'Belgium', 'Hong Kong', 'Norway', 'Ireland', 'South Africa',\n",
       "       'Mexico', 'Malaysia', 'Finland', 'Iceland', 'Denmark',\n",
       "       'Philippines', 'Russia', 'Bulgaria', 'Switzerland',\n",
       "       'United Arab Emirates', 'Malta', 'South Korea', 'Brazil', 'Peru',\n",
       "       'Netherlands', 'Bosnia and Herzegovina', 'Luxembourg', 'Romania',\n",
       "       'Singapore', 'Aruba', 'Libyan Arab Jamahiriya', 'Hungary',\n",
       "       'Argentina', 'Panama', 'Austria', 'Greece', 'Sweden', 'Thailand',\n",
       "       'Fiji', 'Bahamas', 'Turkey', 'Ireland\"}]', 'Cyprus', 'Bolivia',\n",
       "       'Ecuador', 'Poland', 'Israel\"}, {\"iso_3166_1\":', 'Bhutan',\n",
       "       'Lebanon', 'Kyrgyz Republic', 'Indonesia', 'Guyana', 'Pakistan',\n",
       "       'Guadaloupe', 'Iran', 'Slovenia', 'Afghanistan',\n",
       "       'Dominican Republic', 'Kenya'], dtype=object)"
      ]
     },
     "execution_count": 17,
     "metadata": {},
     "output_type": "execute_result"
    }
   ],
   "source": [
    "df.production_countries.unique()\n"
   ]
  },
  {
   "cell_type": "code",
   "execution_count": 18,
   "id": "ec32a5bc",
   "metadata": {},
   "outputs": [
    {
     "data": {
      "text/plain": [
       "array(['United States of America', 'United Kingdom', 'Jamaica',\n",
       "       'Czech Republic', 'New Zealand', 'China', 'Canada', 'Germany',\n",
       "       'Japan', 'France', 'Australia', 'Italy', 'Spain', 'India',\n",
       "       'Belgium', 'Hong Kong', 'Norway', 'Ireland', 'South Africa',\n",
       "       'Mexico'], dtype=object)"
      ]
     },
     "execution_count": 18,
     "metadata": {},
     "output_type": "execute_result"
    }
   ],
   "source": [
    "countries = df.production_countries.unique()\n",
    "len(countries)\n",
    "countries [0:20] #"
   ]
  },
  {
   "cell_type": "code",
   "execution_count": 19,
   "id": "7498c9fc",
   "metadata": {},
   "outputs": [
    {
     "data": {
      "text/plain": [
       "68"
      ]
     },
     "execution_count": 19,
     "metadata": {},
     "output_type": "execute_result"
    }
   ],
   "source": [
    "len(countries) "
   ]
  },
  {
   "cell_type": "code",
   "execution_count": 20,
   "id": "c9bb4372",
   "metadata": {},
   "outputs": [
    {
     "data": {
      "text/plain": [
       "production_countries\n",
       "United States of America    3098\n",
       "United Kingdom               373\n",
       "Canada                       220\n",
       "Germany                      200\n",
       "France                       174\n",
       "                            ... \n",
       "Peru                           1\n",
       "Malta                          1\n",
       "Philippines                    1\n",
       "Jamaica                        1\n",
       "Kenya                          1\n",
       "Name: count, Length: 68, dtype: int64"
      ]
     },
     "execution_count": 20,
     "metadata": {},
     "output_type": "execute_result"
    }
   ],
   "source": [
    "countries_by_movie_number = df.production_countries.value_counts()\n",
    "countries_by_movie_number"
   ]
  },
  {
   "cell_type": "code",
   "execution_count": 92,
   "id": "43c0f79e",
   "metadata": {},
   "outputs": [
    {
     "data": {
      "text/plain": [
       "production_countries\n",
       "United States of America    3098\n",
       "United Kingdom               373\n",
       "Canada                       220\n",
       "Germany                      200\n",
       "France                       174\n",
       "Australia                     87\n",
       "India                         41\n",
       "China                         40\n",
       "Spain                         34\n",
       "Japan                         34\n",
       "Italy                         26\n",
       "Mexico                        23\n",
       "Hong Kong                     22\n",
       "New Zealand                   22\n",
       "Czech Republic                18\n",
       "Ireland                       18\n",
       "Belgium                       17\n",
       "Denmark                       14\n",
       "South Korea                   13\n",
       "Brazil                        13\n",
       "Name: count, dtype: int64"
      ]
     },
     "execution_count": 92,
     "metadata": {},
     "output_type": "execute_result"
    }
   ],
   "source": [
    "countries_by_movie_number[0:20] ## since different no of countries is 68 we are taking top 20 for analysis\n"
   ]
  },
  {
   "cell_type": "code",
   "execution_count": 22,
   "id": "3348f667",
   "metadata": {},
   "outputs": [
    {
     "data": {
      "text/plain": [
       "<Axes: ylabel='production_countries'>"
      ]
     },
     "execution_count": 22,
     "metadata": {},
     "output_type": "execute_result"
    },
    {
     "data": {
      "image/png": "[encoded data removed]",
      "text/plain": [
       "<Figure size 640x480 with 1 Axes>"
      ]
     },
     "metadata": {},
     "output_type": "display_data"
    }
   ],
   "source": [
    "countries_by_movie_number[0:10].plot(kind='barh') ## since number of countries is 68 we are using the first top 20."
   ]
  },
  {
   "cell_type": "code",
   "execution_count": 23,
   "id": "550fd491",
   "metadata": {},
   "outputs": [],
   "source": [
    "## from above plot we cam see that the USA is the first country with highest number of movies followed by UK and Canada"
   ]
  },
  {
   "cell_type": "code",
   "execution_count": 24,
   "id": "4abc4548",
   "metadata": {},
   "outputs": [],
   "source": [
    "import seaborn as sns\n",
    "sns.set_style = (\"darkgrid\")"
   ]
  },
  {
   "cell_type": "code",
   "execution_count": 25,
   "id": "a0b5fb14",
   "metadata": {
    "scrolled": false
   },
   "outputs": [
    {
     "name": "stderr",
     "output_type": "stream",
     "text": [
      "C:\\Users\\ajeet\\AppData\\Local\\Temp\\ipykernel_11760\\2316958049.py:1: UserWarning: \n",
      "\n",
      "`distplot` is a deprecated function and will be removed in seaborn v0.14.0.\n",
      "\n",
      "Please adapt your code to use either `displot` (a figure-level function with\n",
      "similar flexibility) or `histplot` (an axes-level function for histograms).\n",
      "\n",
      "For a guide to updating your code to use the new functions, please see\n",
      "https://gist.github.com/mwaskom/de44147ed2974457ad6372750bbe5751\n",
      "\n",
      "  sns.distplot(countries_by_movie_number)\n"
     ]
    },
    {
     "data": {
      "text/plain": [
       "<Axes: xlabel='count', ylabel='Density'>"
      ]
     },
     "execution_count": 25,
     "metadata": {},
     "output_type": "execute_result"
    },
    {
     "data": {
      "image/png": "[encoded data removed]",
      "text/plain": [
       "<Figure size 640x480 with 1 Axes>"
      ]
     },
     "metadata": {},
     "output_type": "display_data"
    }
   ],
   "source": [
    "sns.distplot(countries_by_movie_number)"
   ]
  },
  {
   "cell_type": "code",
   "execution_count": 114,
   "id": "8b5fab97",
   "metadata": {},
   "outputs": [],
   "source": [
    "# from above distplot we can see that most of the countries have the movies between 0-300 that gose uptil 3000 that is of usa in number"
   ]
  },
  {
   "cell_type": "code",
   "execution_count": 27,
   "id": "75f6615b",
   "metadata": {},
   "outputs": [
    {
     "data": {
      "text/plain": [
       "0                Action\n",
       "1             Adventure\n",
       "2                Action\n",
       "3                Action\n",
       "4                Action\n",
       "             ...       \n",
       "4795              Drama\n",
       "4796    Science Fiction\n",
       "4798             Action\n",
       "4800             Comedy\n",
       "4802        Documentary\n",
       "Name: Genres, Length: 4620, dtype: object"
      ]
     },
     "execution_count": 27,
     "metadata": {},
     "output_type": "execute_result"
    }
   ],
   "source": [
    "df.Genres ## taking column Genres for analysis"
   ]
  },
  {
   "cell_type": "code",
   "execution_count": 28,
   "id": "7bd82bc4",
   "metadata": {},
   "outputs": [
    {
     "data": {
      "text/plain": [
       "array(['Action', 'Adventure', 'Fantasy', 'Animation', 'Science Fiction',\n",
       "       'Drama', 'Thriller', 'Family', 'Comedy', 'History', 'War',\n",
       "       'Western', 'Romance\\n', 'Crime\\n', ' Mystry', 'Horror',\n",
       "       'Documentary', 'Music', 'TV Movie', 'Foreign'], dtype=object)"
      ]
     },
     "execution_count": 28,
     "metadata": {},
     "output_type": "execute_result"
    }
   ],
   "source": [
    "df.Genres.unique()"
   ]
  },
  {
   "cell_type": "code",
   "execution_count": 29,
   "id": "d5102f33",
   "metadata": {},
   "outputs": [
    {
     "data": {
      "text/plain": [
       "20"
      ]
     },
     "execution_count": 29,
     "metadata": {},
     "output_type": "execute_result"
    }
   ],
   "source": [
    "len(df.Genres.unique())"
   ]
  },
  {
   "cell_type": "code",
   "execution_count": 30,
   "id": "696fab7c",
   "metadata": {},
   "outputs": [
    {
     "data": {
      "text/plain": [
       "Genres\n",
       "Drama              1153\n",
       "Comedy             1008\n",
       "Action              741\n",
       "Adventure           337\n",
       "Horror              285\n",
       "Crime\\n             193\n",
       "Thriller            189\n",
       "Animation           121\n",
       "Fantasy             117\n",
       "Romance\\n           103\n",
       "Science Fiction      94\n",
       "Documentary          70\n",
       "Family               55\n",
       " Mystry              40\n",
       "Music                34\n",
       "Western              27\n",
       "History              25\n",
       "War                  23\n",
       "TV Movie              4\n",
       "Foreign               1\n",
       "Name: count, dtype: int64"
      ]
     },
     "execution_count": 30,
     "metadata": {},
     "output_type": "execute_result"
    }
   ],
   "source": [
    "genres_count = df.Genres.value_counts()\n",
    "genres_count"
   ]
  },
  {
   "cell_type": "code",
   "execution_count": 31,
   "id": "455abec2",
   "metadata": {},
   "outputs": [
    {
     "data": {
      "text/plain": [
       "<Axes: ylabel='Genres'>"
      ]
     },
     "execution_count": 31,
     "metadata": {},
     "output_type": "execute_result"
    },
    {
     "data": {
      "image/png": "[encoded data removed]",
      "text/plain": [
       "<Figure size 640x480 with 1 Axes>"
      ]
     },
     "metadata": {},
     "output_type": "display_data"
    }
   ],
   "source": [
    "genres_count.plot(kind = 'barh')"
   ]
  },
  {
   "cell_type": "code",
   "execution_count": 32,
   "id": "a3975daa",
   "metadata": {},
   "outputs": [],
   "source": [
    "# from above graph we can see that most of the movies that have been made they are from Drama genre followed by\n",
    "#Comedy Action and adventure "
   ]
  },
  {
   "cell_type": "code",
   "execution_count": 33,
   "id": "06a94c0e",
   "metadata": {
    "scrolled": true
   },
   "outputs": [
    {
     "data": {
      "text/html": [
       "<div>\n",
       "<style scoped>\n",
       "    .dataframe tbody tr th:only-of-type {\n",
       "        vertical-align: middle;\n",
       "    }\n",
       "\n",
       "    .dataframe tbody tr th {\n",
       "        vertical-align: top;\n",
       "    }\n",
       "\n",
       "    .dataframe thead th {\n",
       "        text-align: right;\n",
       "    }\n",
       "</style>\n",
       "<table border=\"1\" class=\"dataframe\">\n",
       "  <thead>\n",
       "    <tr style=\"text-align: right;\">\n",
       "      <th></th>\n",
       "      <th>budget</th>\n",
       "      <th>Genres</th>\n",
       "      <th>popularity</th>\n",
       "      <th>production_countries</th>\n",
       "      <th>revenue</th>\n",
       "      <th>runtime</th>\n",
       "      <th>vote_average</th>\n",
       "      <th>vote_count</th>\n",
       "    </tr>\n",
       "  </thead>\n",
       "  <tbody>\n",
       "    <tr>\n",
       "      <th>0</th>\n",
       "      <td>237000000.0</td>\n",
       "      <td>Action</td>\n",
       "      <td>150.437577</td>\n",
       "      <td>United States of America</td>\n",
       "      <td>2.787965e+09</td>\n",
       "      <td>162.0</td>\n",
       "      <td>7.2</td>\n",
       "      <td>11800.0</td>\n",
       "    </tr>\n",
       "    <tr>\n",
       "      <th>1</th>\n",
       "      <td>300000000.0</td>\n",
       "      <td>Adventure</td>\n",
       "      <td>139.082615</td>\n",
       "      <td>United States of America</td>\n",
       "      <td>9.610000e+08</td>\n",
       "      <td>169.0</td>\n",
       "      <td>6.9</td>\n",
       "      <td>4500.0</td>\n",
       "    </tr>\n",
       "    <tr>\n",
       "      <th>2</th>\n",
       "      <td>245000000.0</td>\n",
       "      <td>Action</td>\n",
       "      <td>107.376788</td>\n",
       "      <td>United Kingdom</td>\n",
       "      <td>8.806746e+08</td>\n",
       "      <td>148.0</td>\n",
       "      <td>6.3</td>\n",
       "      <td>4466.0</td>\n",
       "    </tr>\n",
       "    <tr>\n",
       "      <th>3</th>\n",
       "      <td>250000000.0</td>\n",
       "      <td>Action</td>\n",
       "      <td>112.312950</td>\n",
       "      <td>United States of America</td>\n",
       "      <td>1.084939e+09</td>\n",
       "      <td>165.0</td>\n",
       "      <td>7.6</td>\n",
       "      <td>9106.0</td>\n",
       "    </tr>\n",
       "    <tr>\n",
       "      <th>4</th>\n",
       "      <td>260000000.0</td>\n",
       "      <td>Action</td>\n",
       "      <td>43.926995</td>\n",
       "      <td>United States of America</td>\n",
       "      <td>2.841391e+08</td>\n",
       "      <td>132.0</td>\n",
       "      <td>6.1</td>\n",
       "      <td>2124.0</td>\n",
       "    </tr>\n",
       "  </tbody>\n",
       "</table>\n",
       "</div>"
      ],
      "text/plain": [
       "        budget     Genres  popularity      production_countries       revenue  \\\n",
       "0  237000000.0     Action  150.437577  United States of America  2.787965e+09   \n",
       "1  300000000.0  Adventure  139.082615  United States of America  9.610000e+08   \n",
       "2  245000000.0     Action  107.376788            United Kingdom  8.806746e+08   \n",
       "3  250000000.0     Action  112.312950  United States of America  1.084939e+09   \n",
       "4  260000000.0     Action   43.926995  United States of America  2.841391e+08   \n",
       "\n",
       "   runtime  vote_average  vote_count  \n",
       "0    162.0           7.2     11800.0  \n",
       "1    169.0           6.9      4500.0  \n",
       "2    148.0           6.3      4466.0  \n",
       "3    165.0           7.6      9106.0  \n",
       "4    132.0           6.1      2124.0  "
      ]
     },
     "execution_count": 33,
     "metadata": {},
     "output_type": "execute_result"
    }
   ],
   "source": [
    "df.head()"
   ]
  },
  {
   "cell_type": "code",
   "execution_count": null,
   "id": "93819511",
   "metadata": {},
   "outputs": [],
   "source": []
  },
  {
   "cell_type": "code",
   "execution_count": 88,
   "id": "cc705a38",
   "metadata": {},
   "outputs": [],
   "source": [
    "column_to_divide = 'budget'\n",
    "\n",
    "divisor = 1000000 \n",
    "df[column_to_divide] = df[column_to_divide] / divisor\n",
    "\n",
    "df[column_to_divide] = df[column_to_divide].round(2)"
   ]
  },
  {
   "cell_type": "code",
   "execution_count": 89,
   "id": "ddbfbfdb",
   "metadata": {},
   "outputs": [],
   "source": [
    "#here we have converted all the values of budget and revenue into million"
   ]
  },
  {
   "cell_type": "code",
   "execution_count": 35,
   "id": "2b156bce",
   "metadata": {},
   "outputs": [],
   "source": [
    "df.popularity = df['popularity'].round(2)"
   ]
  },
  {
   "cell_type": "code",
   "execution_count": 36,
   "id": "234826a9",
   "metadata": {},
   "outputs": [],
   "source": [
    "revenue_divide = 'revenue'\n",
    "\n",
    "df[revenue_divide] = df[revenue_divide]/divisor\n",
    "\n",
    "df[revenue_divide] = df[revenue_divide].round(2)"
   ]
  },
  {
   "cell_type": "code",
   "execution_count": 37,
   "id": "3d916493",
   "metadata": {},
   "outputs": [
    {
     "data": {
      "text/html": [
       "<div>\n",
       "<style scoped>\n",
       "    .dataframe tbody tr th:only-of-type {\n",
       "        vertical-align: middle;\n",
       "    }\n",
       "\n",
       "    .dataframe tbody tr th {\n",
       "        vertical-align: top;\n",
       "    }\n",
       "\n",
       "    .dataframe thead th {\n",
       "        text-align: right;\n",
       "    }\n",
       "</style>\n",
       "<table border=\"1\" class=\"dataframe\">\n",
       "  <thead>\n",
       "    <tr style=\"text-align: right;\">\n",
       "      <th></th>\n",
       "      <th>budget</th>\n",
       "      <th>Genres</th>\n",
       "      <th>popularity</th>\n",
       "      <th>production_countries</th>\n",
       "      <th>revenue</th>\n",
       "      <th>runtime</th>\n",
       "      <th>vote_average</th>\n",
       "      <th>vote_count</th>\n",
       "    </tr>\n",
       "  </thead>\n",
       "  <tbody>\n",
       "    <tr>\n",
       "      <th>0</th>\n",
       "      <td>237.0</td>\n",
       "      <td>Action</td>\n",
       "      <td>150.44</td>\n",
       "      <td>United States of America</td>\n",
       "      <td>2787.97</td>\n",
       "      <td>162.0</td>\n",
       "      <td>7.2</td>\n",
       "      <td>11800.0</td>\n",
       "    </tr>\n",
       "    <tr>\n",
       "      <th>1</th>\n",
       "      <td>300.0</td>\n",
       "      <td>Adventure</td>\n",
       "      <td>139.08</td>\n",
       "      <td>United States of America</td>\n",
       "      <td>961.00</td>\n",
       "      <td>169.0</td>\n",
       "      <td>6.9</td>\n",
       "      <td>4500.0</td>\n",
       "    </tr>\n",
       "    <tr>\n",
       "      <th>2</th>\n",
       "      <td>245.0</td>\n",
       "      <td>Action</td>\n",
       "      <td>107.38</td>\n",
       "      <td>United Kingdom</td>\n",
       "      <td>880.67</td>\n",
       "      <td>148.0</td>\n",
       "      <td>6.3</td>\n",
       "      <td>4466.0</td>\n",
       "    </tr>\n",
       "    <tr>\n",
       "      <th>3</th>\n",
       "      <td>250.0</td>\n",
       "      <td>Action</td>\n",
       "      <td>112.31</td>\n",
       "      <td>United States of America</td>\n",
       "      <td>1084.94</td>\n",
       "      <td>165.0</td>\n",
       "      <td>7.6</td>\n",
       "      <td>9106.0</td>\n",
       "    </tr>\n",
       "    <tr>\n",
       "      <th>4</th>\n",
       "      <td>260.0</td>\n",
       "      <td>Action</td>\n",
       "      <td>43.93</td>\n",
       "      <td>United States of America</td>\n",
       "      <td>284.14</td>\n",
       "      <td>132.0</td>\n",
       "      <td>6.1</td>\n",
       "      <td>2124.0</td>\n",
       "    </tr>\n",
       "  </tbody>\n",
       "</table>\n",
       "</div>"
      ],
      "text/plain": [
       "   budget     Genres  popularity      production_countries  revenue  runtime  \\\n",
       "0   237.0     Action      150.44  United States of America  2787.97    162.0   \n",
       "1   300.0  Adventure      139.08  United States of America   961.00    169.0   \n",
       "2   245.0     Action      107.38            United Kingdom   880.67    148.0   \n",
       "3   250.0     Action      112.31  United States of America  1084.94    165.0   \n",
       "4   260.0     Action       43.93  United States of America   284.14    132.0   \n",
       "\n",
       "   vote_average  vote_count  \n",
       "0           7.2     11800.0  \n",
       "1           6.9      4500.0  \n",
       "2           6.3      4466.0  \n",
       "3           7.6      9106.0  \n",
       "4           6.1      2124.0  "
      ]
     },
     "execution_count": 37,
     "metadata": {},
     "output_type": "execute_result"
    }
   ],
   "source": [
    "df.head()"
   ]
  },
  {
   "cell_type": "code",
   "execution_count": 38,
   "id": "c8952ee8",
   "metadata": {},
   "outputs": [
    {
     "data": {
      "text/html": [
       "<div>\n",
       "<style scoped>\n",
       "    .dataframe tbody tr th:only-of-type {\n",
       "        vertical-align: middle;\n",
       "    }\n",
       "\n",
       "    .dataframe tbody tr th {\n",
       "        vertical-align: top;\n",
       "    }\n",
       "\n",
       "    .dataframe thead th {\n",
       "        text-align: right;\n",
       "    }\n",
       "</style>\n",
       "<table border=\"1\" class=\"dataframe\">\n",
       "  <thead>\n",
       "    <tr style=\"text-align: right;\">\n",
       "      <th></th>\n",
       "      <th>budget</th>\n",
       "      <th>popularity</th>\n",
       "      <th>revenue</th>\n",
       "      <th>runtime</th>\n",
       "      <th>vote_average</th>\n",
       "      <th>vote_count</th>\n",
       "    </tr>\n",
       "  </thead>\n",
       "  <tbody>\n",
       "    <tr>\n",
       "      <th>count</th>\n",
       "      <td>4620.000000</td>\n",
       "      <td>4620.000000</td>\n",
       "      <td>4620.000000</td>\n",
       "      <td>4620.000000</td>\n",
       "      <td>4620.000000</td>\n",
       "      <td>4620.000000</td>\n",
       "    </tr>\n",
       "    <tr>\n",
       "      <th>mean</th>\n",
       "      <td>30.133643</td>\n",
       "      <td>22.304139</td>\n",
       "      <td>85.494677</td>\n",
       "      <td>107.741126</td>\n",
       "      <td>6.151472</td>\n",
       "      <td>717.201948</td>\n",
       "    </tr>\n",
       "    <tr>\n",
       "      <th>std</th>\n",
       "      <td>41.116481</td>\n",
       "      <td>32.171436</td>\n",
       "      <td>165.221832</td>\n",
       "      <td>21.022459</td>\n",
       "      <td>1.074231</td>\n",
       "      <td>1251.187116</td>\n",
       "    </tr>\n",
       "    <tr>\n",
       "      <th>min</th>\n",
       "      <td>0.000000</td>\n",
       "      <td>0.000000</td>\n",
       "      <td>0.000000</td>\n",
       "      <td>0.000000</td>\n",
       "      <td>0.000000</td>\n",
       "      <td>0.000000</td>\n",
       "    </tr>\n",
       "    <tr>\n",
       "      <th>25%</th>\n",
       "      <td>1.500000</td>\n",
       "      <td>5.420000</td>\n",
       "      <td>0.000000</td>\n",
       "      <td>94.000000</td>\n",
       "      <td>5.600000</td>\n",
       "      <td>66.000000</td>\n",
       "    </tr>\n",
       "    <tr>\n",
       "      <th>50%</th>\n",
       "      <td>15.000000</td>\n",
       "      <td>13.935000</td>\n",
       "      <td>21.965000</td>\n",
       "      <td>104.000000</td>\n",
       "      <td>6.200000</td>\n",
       "      <td>257.000000</td>\n",
       "    </tr>\n",
       "    <tr>\n",
       "      <th>75%</th>\n",
       "      <td>40.000000</td>\n",
       "      <td>29.212500</td>\n",
       "      <td>97.215000</td>\n",
       "      <td>118.000000</td>\n",
       "      <td>6.800000</td>\n",
       "      <td>779.000000</td>\n",
       "    </tr>\n",
       "    <tr>\n",
       "      <th>max</th>\n",
       "      <td>380.000000</td>\n",
       "      <td>875.580000</td>\n",
       "      <td>2787.970000</td>\n",
       "      <td>338.000000</td>\n",
       "      <td>10.000000</td>\n",
       "      <td>13752.000000</td>\n",
       "    </tr>\n",
       "  </tbody>\n",
       "</table>\n",
       "</div>"
      ],
      "text/plain": [
       "            budget   popularity      revenue      runtime  vote_average  \\\n",
       "count  4620.000000  4620.000000  4620.000000  4620.000000   4620.000000   \n",
       "mean     30.133643    22.304139    85.494677   107.741126      6.151472   \n",
       "std      41.116481    32.171436   165.221832    21.022459      1.074231   \n",
       "min       0.000000     0.000000     0.000000     0.000000      0.000000   \n",
       "25%       1.500000     5.420000     0.000000    94.000000      5.600000   \n",
       "50%      15.000000    13.935000    21.965000   104.000000      6.200000   \n",
       "75%      40.000000    29.212500    97.215000   118.000000      6.800000   \n",
       "max     380.000000   875.580000  2787.970000   338.000000     10.000000   \n",
       "\n",
       "         vote_count  \n",
       "count   4620.000000  \n",
       "mean     717.201948  \n",
       "std     1251.187116  \n",
       "min        0.000000  \n",
       "25%       66.000000  \n",
       "50%      257.000000  \n",
       "75%      779.000000  \n",
       "max    13752.000000  "
      ]
     },
     "execution_count": 38,
     "metadata": {},
     "output_type": "execute_result"
    }
   ],
   "source": [
    "df.describe()"
   ]
  },
  {
   "cell_type": "code",
   "execution_count": 118,
   "id": "2dcada17",
   "metadata": {
    "scrolled": false
   },
   "outputs": [
    {
     "data": {
      "text/plain": [
       "<Axes: xlabel='budget', ylabel='revenue'>"
      ]
     },
     "execution_count": 118,
     "metadata": {},
     "output_type": "execute_result"
    },
    {
     "data": {
      "image/png": "[encoded data removed]",
      "text/plain": [
       "<Figure size 640x480 with 1 Axes>"
      ]
     },
     "metadata": {},
     "output_type": "display_data"
    }
   ],
   "source": [
    "Revenue = df.groupby(['budget'], as_index=False)['revenue'].sum().sort_values(by='revenue', ascending=False)\n",
    "\n",
    "sns.barplot(x = 'budget',y= 'revenue' ,data = sales_yrs)"
   ]
  },
  {
   "cell_type": "code",
   "execution_count": 40,
   "id": "e55b3eae",
   "metadata": {},
   "outputs": [
    {
     "data": {
      "text/plain": [
       "<Axes: xlabel='budget', ylabel='revenue'>"
      ]
     },
     "execution_count": 40,
     "metadata": {},
     "output_type": "execute_result"
    },
    {
     "data": {
      "image/png": "[encoded data removed]",
      "text/plain": [
       "<Figure size 640x480 with 1 Axes>"
      ]
     },
     "metadata": {},
     "output_type": "display_data"
    }
   ],
   "source": [
    "sns.scatterplot(x='budget', y='revenue', data=df)"
   ]
  },
  {
   "cell_type": "code",
   "execution_count": 41,
   "id": "db06b44f",
   "metadata": {},
   "outputs": [],
   "source": [
    "## from above plot we can see the comparison of budget with revenue"
   ]
  },
  {
   "cell_type": "code",
   "execution_count": 42,
   "id": "ca617c3d",
   "metadata": {},
   "outputs": [
    {
     "data": {
      "text/plain": [
       "<seaborn.axisgrid.JointGrid at 0x233be633f90>"
      ]
     },
     "execution_count": 42,
     "metadata": {},
     "output_type": "execute_result"
    },
    {
     "data": {
      "image/png": "[encoded data removed]",
      "text/plain": [
       "<Figure size 600x600 with 3 Axes>"
      ]
     },
     "metadata": {},
     "output_type": "display_data"
    }
   ],
   "source": [
    "sns.jointplot (x = 'budget', y = 'revenue', data=df)"
   ]
  },
  {
   "cell_type": "code",
   "execution_count": 93,
   "id": "b42fab72",
   "metadata": {},
   "outputs": [],
   "source": [
    "## revenue and budget has been showen using Jointplot"
   ]
  },
  {
   "cell_type": "code",
   "execution_count": 43,
   "id": "441b09a0",
   "metadata": {},
   "outputs": [
    {
     "data": {
      "text/plain": [
       "<Axes: xlabel='revenue'>"
      ]
     },
     "execution_count": 43,
     "metadata": {},
     "output_type": "execute_result"
    },
    {
     "data": {
      "image/png": "[encoded data removed]",
      "text/plain": [
       "<Figure size 640x480 with 1 Axes>"
      ]
     },
     "metadata": {},
     "output_type": "display_data"
    }
   ],
   "source": [
    "sns.violinplot(x = 'revenue' , data = df)"
   ]
  },
  {
   "cell_type": "code",
   "execution_count": 90,
   "id": "4caa319d",
   "metadata": {},
   "outputs": [],
   "source": [
    "#revenue is showed in violinplot \n"
   ]
  },
  {
   "cell_type": "code",
   "execution_count": 44,
   "id": "332b12c9",
   "metadata": {},
   "outputs": [
    {
     "data": {
      "text/plain": [
       "<Axes: xlabel='runtime'>"
      ]
     },
     "execution_count": 44,
     "metadata": {},
     "output_type": "execute_result"
    },
    {
     "data": {
      "image/png": "[encoded data removed]",
      "text/plain": [
       "<Figure size 640x480 with 1 Axes>"
      ]
     },
     "metadata": {},
     "output_type": "display_data"
    }
   ],
   "source": [
    "sns.violinplot(x = 'runtime' , data = df)"
   ]
  },
  {
   "cell_type": "code",
   "execution_count": 45,
   "id": "e890ff85",
   "metadata": {},
   "outputs": [],
   "source": [
    "# Movie Runtime we can see highest number of movies fall between 90 to 120 minutes aproxx "
   ]
  },
  {
   "cell_type": "code",
   "execution_count": 46,
   "id": "f8078ec8",
   "metadata": {},
   "outputs": [
    {
     "data": {
      "text/plain": [
       "<Axes: xlabel='runtime'>"
      ]
     },
     "execution_count": 46,
     "metadata": {},
     "output_type": "execute_result"
    },
    {
     "data": {
      "image/png": "[encoded data removed]",
      "text/plain": [
       "<Figure size 640x480 with 1 Axes>"
      ]
     },
     "metadata": {},
     "output_type": "display_data"
    }
   ],
   "source": [
    "sns.boxplot(x = 'runtime', data= df)"
   ]
  },
  {
   "cell_type": "code",
   "execution_count": 47,
   "id": "d1aedb28",
   "metadata": {},
   "outputs": [
    {
     "data": {
      "text/html": [
       "<div>\n",
       "<style scoped>\n",
       "    .dataframe tbody tr th:only-of-type {\n",
       "        vertical-align: middle;\n",
       "    }\n",
       "\n",
       "    .dataframe tbody tr th {\n",
       "        vertical-align: top;\n",
       "    }\n",
       "\n",
       "    .dataframe thead th {\n",
       "        text-align: right;\n",
       "    }\n",
       "</style>\n",
       "<table border=\"1\" class=\"dataframe\">\n",
       "  <thead>\n",
       "    <tr style=\"text-align: right;\">\n",
       "      <th></th>\n",
       "      <th>budget</th>\n",
       "      <th>Genres</th>\n",
       "      <th>popularity</th>\n",
       "      <th>production_countries</th>\n",
       "      <th>revenue</th>\n",
       "      <th>runtime</th>\n",
       "      <th>vote_average</th>\n",
       "      <th>vote_count</th>\n",
       "    </tr>\n",
       "  </thead>\n",
       "  <tbody>\n",
       "    <tr>\n",
       "      <th>0</th>\n",
       "      <td>237.0</td>\n",
       "      <td>Action</td>\n",
       "      <td>150.44</td>\n",
       "      <td>United States of America</td>\n",
       "      <td>2787.97</td>\n",
       "      <td>162.0</td>\n",
       "      <td>7.2</td>\n",
       "      <td>11800.0</td>\n",
       "    </tr>\n",
       "    <tr>\n",
       "      <th>1</th>\n",
       "      <td>300.0</td>\n",
       "      <td>Adventure</td>\n",
       "      <td>139.08</td>\n",
       "      <td>United States of America</td>\n",
       "      <td>961.00</td>\n",
       "      <td>169.0</td>\n",
       "      <td>6.9</td>\n",
       "      <td>4500.0</td>\n",
       "    </tr>\n",
       "    <tr>\n",
       "      <th>2</th>\n",
       "      <td>245.0</td>\n",
       "      <td>Action</td>\n",
       "      <td>107.38</td>\n",
       "      <td>United Kingdom</td>\n",
       "      <td>880.67</td>\n",
       "      <td>148.0</td>\n",
       "      <td>6.3</td>\n",
       "      <td>4466.0</td>\n",
       "    </tr>\n",
       "    <tr>\n",
       "      <th>3</th>\n",
       "      <td>250.0</td>\n",
       "      <td>Action</td>\n",
       "      <td>112.31</td>\n",
       "      <td>United States of America</td>\n",
       "      <td>1084.94</td>\n",
       "      <td>165.0</td>\n",
       "      <td>7.6</td>\n",
       "      <td>9106.0</td>\n",
       "    </tr>\n",
       "    <tr>\n",
       "      <th>4</th>\n",
       "      <td>260.0</td>\n",
       "      <td>Action</td>\n",
       "      <td>43.93</td>\n",
       "      <td>United States of America</td>\n",
       "      <td>284.14</td>\n",
       "      <td>132.0</td>\n",
       "      <td>6.1</td>\n",
       "      <td>2124.0</td>\n",
       "    </tr>\n",
       "  </tbody>\n",
       "</table>\n",
       "</div>"
      ],
      "text/plain": [
       "   budget     Genres  popularity      production_countries  revenue  runtime  \\\n",
       "0   237.0     Action      150.44  United States of America  2787.97    162.0   \n",
       "1   300.0  Adventure      139.08  United States of America   961.00    169.0   \n",
       "2   245.0     Action      107.38            United Kingdom   880.67    148.0   \n",
       "3   250.0     Action      112.31  United States of America  1084.94    165.0   \n",
       "4   260.0     Action       43.93  United States of America   284.14    132.0   \n",
       "\n",
       "   vote_average  vote_count  \n",
       "0           7.2     11800.0  \n",
       "1           6.9      4500.0  \n",
       "2           6.3      4466.0  \n",
       "3           7.6      9106.0  \n",
       "4           6.1      2124.0  "
      ]
     },
     "execution_count": 47,
     "metadata": {},
     "output_type": "execute_result"
    }
   ],
   "source": [
    "df.head()"
   ]
  },
  {
   "cell_type": "code",
   "execution_count": 48,
   "id": "e5be92c5",
   "metadata": {},
   "outputs": [
    {
     "data": {
      "text/plain": [
       "<Axes: xlabel='runtime', ylabel='revenue'>"
      ]
     },
     "execution_count": 48,
     "metadata": {},
     "output_type": "execute_result"
    },
    {
     "data": {
      "image/png": "[encoded data removed]",
      "text/plain": [
       "<Figure size 640x480 with 1 Axes>"
      ]
     },
     "metadata": {},
     "output_type": "display_data"
    }
   ],
   "source": [
    "sns.scatterplot(x='runtime', y='revenue', data=df)"
   ]
  },
  {
   "cell_type": "code",
   "execution_count": 49,
   "id": "5f76f74d",
   "metadata": {},
   "outputs": [],
   "source": [
    "# there is no direct relation between runtime and revenue however if a movie is between 90 -200 minutes it increases chancesof getting a good revenue out of it "
   ]
  },
  {
   "cell_type": "markdown",
   "id": "e629dbcf",
   "metadata": {},
   "source": [
    "# Linear Regression"
   ]
  },
  {
   "cell_type": "code",
   "execution_count": 50,
   "id": "5d8b581c",
   "metadata": {},
   "outputs": [],
   "source": [
    "from sklearn.linear_model import LinearRegression\n",
    "from sklearn.model_selection import train_test_split\n",
    "from sklearn.preprocessing import OneHotEncoder , StandardScaler\n",
    "from sklearn.metrics import r2_score,mean_absolute_error,mean_squared_error"
   ]
  },
  {
   "cell_type": "code",
   "execution_count": 51,
   "id": "d6798969",
   "metadata": {
    "scrolled": false
   },
   "outputs": [
    {
     "data": {
      "text/html": [
       "<div>\n",
       "<style scoped>\n",
       "    .dataframe tbody tr th:only-of-type {\n",
       "        vertical-align: middle;\n",
       "    }\n",
       "\n",
       "    .dataframe tbody tr th {\n",
       "        vertical-align: top;\n",
       "    }\n",
       "\n",
       "    .dataframe thead th {\n",
       "        text-align: right;\n",
       "    }\n",
       "</style>\n",
       "<table border=\"1\" class=\"dataframe\">\n",
       "  <thead>\n",
       "    <tr style=\"text-align: right;\">\n",
       "      <th></th>\n",
       "      <th>budget</th>\n",
       "      <th>Genres</th>\n",
       "      <th>popularity</th>\n",
       "      <th>production_countries</th>\n",
       "      <th>revenue</th>\n",
       "      <th>runtime</th>\n",
       "      <th>vote_average</th>\n",
       "      <th>vote_count</th>\n",
       "    </tr>\n",
       "  </thead>\n",
       "  <tbody>\n",
       "    <tr>\n",
       "      <th>0</th>\n",
       "      <td>237.00</td>\n",
       "      <td>Action</td>\n",
       "      <td>150.44</td>\n",
       "      <td>United States of America</td>\n",
       "      <td>2787.97</td>\n",
       "      <td>162.0</td>\n",
       "      <td>7.2</td>\n",
       "      <td>11800.0</td>\n",
       "    </tr>\n",
       "    <tr>\n",
       "      <th>1</th>\n",
       "      <td>300.00</td>\n",
       "      <td>Adventure</td>\n",
       "      <td>139.08</td>\n",
       "      <td>United States of America</td>\n",
       "      <td>961.00</td>\n",
       "      <td>169.0</td>\n",
       "      <td>6.9</td>\n",
       "      <td>4500.0</td>\n",
       "    </tr>\n",
       "    <tr>\n",
       "      <th>2</th>\n",
       "      <td>245.00</td>\n",
       "      <td>Action</td>\n",
       "      <td>107.38</td>\n",
       "      <td>United Kingdom</td>\n",
       "      <td>880.67</td>\n",
       "      <td>148.0</td>\n",
       "      <td>6.3</td>\n",
       "      <td>4466.0</td>\n",
       "    </tr>\n",
       "    <tr>\n",
       "      <th>3</th>\n",
       "      <td>250.00</td>\n",
       "      <td>Action</td>\n",
       "      <td>112.31</td>\n",
       "      <td>United States of America</td>\n",
       "      <td>1084.94</td>\n",
       "      <td>165.0</td>\n",
       "      <td>7.6</td>\n",
       "      <td>9106.0</td>\n",
       "    </tr>\n",
       "    <tr>\n",
       "      <th>4</th>\n",
       "      <td>260.00</td>\n",
       "      <td>Action</td>\n",
       "      <td>43.93</td>\n",
       "      <td>United States of America</td>\n",
       "      <td>284.14</td>\n",
       "      <td>132.0</td>\n",
       "      <td>6.1</td>\n",
       "      <td>2124.0</td>\n",
       "    </tr>\n",
       "    <tr>\n",
       "      <th>...</th>\n",
       "      <td>...</td>\n",
       "      <td>...</td>\n",
       "      <td>...</td>\n",
       "      <td>...</td>\n",
       "      <td>...</td>\n",
       "      <td>...</td>\n",
       "      <td>...</td>\n",
       "      <td>...</td>\n",
       "    </tr>\n",
       "    <tr>\n",
       "      <th>4795</th>\n",
       "      <td>0.00</td>\n",
       "      <td>Drama</td>\n",
       "      <td>0.92</td>\n",
       "      <td>United States of America</td>\n",
       "      <td>0.00</td>\n",
       "      <td>98.0</td>\n",
       "      <td>6.0</td>\n",
       "      <td>1.0</td>\n",
       "    </tr>\n",
       "    <tr>\n",
       "      <th>4796</th>\n",
       "      <td>0.01</td>\n",
       "      <td>Science Fiction</td>\n",
       "      <td>23.31</td>\n",
       "      <td>United States of America</td>\n",
       "      <td>0.42</td>\n",
       "      <td>77.0</td>\n",
       "      <td>6.9</td>\n",
       "      <td>658.0</td>\n",
       "    </tr>\n",
       "    <tr>\n",
       "      <th>4798</th>\n",
       "      <td>0.22</td>\n",
       "      <td>Action</td>\n",
       "      <td>14.27</td>\n",
       "      <td>Mexico</td>\n",
       "      <td>2.04</td>\n",
       "      <td>81.0</td>\n",
       "      <td>6.6</td>\n",
       "      <td>238.0</td>\n",
       "    </tr>\n",
       "    <tr>\n",
       "      <th>4800</th>\n",
       "      <td>0.00</td>\n",
       "      <td>Comedy</td>\n",
       "      <td>1.44</td>\n",
       "      <td>United States of America</td>\n",
       "      <td>0.00</td>\n",
       "      <td>120.0</td>\n",
       "      <td>7.0</td>\n",
       "      <td>6.0</td>\n",
       "    </tr>\n",
       "    <tr>\n",
       "      <th>4802</th>\n",
       "      <td>0.00</td>\n",
       "      <td>Documentary</td>\n",
       "      <td>1.93</td>\n",
       "      <td>United States of America</td>\n",
       "      <td>0.00</td>\n",
       "      <td>90.0</td>\n",
       "      <td>6.3</td>\n",
       "      <td>16.0</td>\n",
       "    </tr>\n",
       "  </tbody>\n",
       "</table>\n",
       "<p>4620 rows × 8 columns</p>\n",
       "</div>"
      ],
      "text/plain": [
       "      budget           Genres  popularity      production_countries  revenue  \\\n",
       "0     237.00           Action      150.44  United States of America  2787.97   \n",
       "1     300.00        Adventure      139.08  United States of America   961.00   \n",
       "2     245.00           Action      107.38            United Kingdom   880.67   \n",
       "3     250.00           Action      112.31  United States of America  1084.94   \n",
       "4     260.00           Action       43.93  United States of America   284.14   \n",
       "...      ...              ...         ...                       ...      ...   \n",
       "4795    0.00            Drama        0.92  United States of America     0.00   \n",
       "4796    0.01  Science Fiction       23.31  United States of America     0.42   \n",
       "4798    0.22           Action       14.27                    Mexico     2.04   \n",
       "4800    0.00           Comedy        1.44  United States of America     0.00   \n",
       "4802    0.00      Documentary        1.93  United States of America     0.00   \n",
       "\n",
       "      runtime  vote_average  vote_count  \n",
       "0       162.0           7.2     11800.0  \n",
       "1       169.0           6.9      4500.0  \n",
       "2       148.0           6.3      4466.0  \n",
       "3       165.0           7.6      9106.0  \n",
       "4       132.0           6.1      2124.0  \n",
       "...       ...           ...         ...  \n",
       "4795     98.0           6.0         1.0  \n",
       "4796     77.0           6.9       658.0  \n",
       "4798     81.0           6.6       238.0  \n",
       "4800    120.0           7.0         6.0  \n",
       "4802     90.0           6.3        16.0  \n",
       "\n",
       "[4620 rows x 8 columns]"
      ]
     },
     "execution_count": 51,
     "metadata": {},
     "output_type": "execute_result"
    }
   ],
   "source": [
    "df"
   ]
  },
  {
   "cell_type": "code",
   "execution_count": 52,
   "id": "ce9f3e59",
   "metadata": {
    "scrolled": false
   },
   "outputs": [],
   "source": [
    "df.drop(columns={'vote_count'},inplace = True)"
   ]
  },
  {
   "cell_type": "code",
   "execution_count": 53,
   "id": "9089ad69",
   "metadata": {},
   "outputs": [
    {
     "data": {
      "text/html": [
       "<div>\n",
       "<style scoped>\n",
       "    .dataframe tbody tr th:only-of-type {\n",
       "        vertical-align: middle;\n",
       "    }\n",
       "\n",
       "    .dataframe tbody tr th {\n",
       "        vertical-align: top;\n",
       "    }\n",
       "\n",
       "    .dataframe thead th {\n",
       "        text-align: right;\n",
       "    }\n",
       "</style>\n",
       "<table border=\"1\" class=\"dataframe\">\n",
       "  <thead>\n",
       "    <tr style=\"text-align: right;\">\n",
       "      <th></th>\n",
       "      <th>budget</th>\n",
       "      <th>Genres</th>\n",
       "      <th>popularity</th>\n",
       "      <th>production_countries</th>\n",
       "      <th>revenue</th>\n",
       "      <th>runtime</th>\n",
       "      <th>vote_average</th>\n",
       "    </tr>\n",
       "  </thead>\n",
       "  <tbody>\n",
       "    <tr>\n",
       "      <th>0</th>\n",
       "      <td>237.00</td>\n",
       "      <td>Action</td>\n",
       "      <td>150.44</td>\n",
       "      <td>United States of America</td>\n",
       "      <td>2787.97</td>\n",
       "      <td>162.0</td>\n",
       "      <td>7.2</td>\n",
       "    </tr>\n",
       "    <tr>\n",
       "      <th>1</th>\n",
       "      <td>300.00</td>\n",
       "      <td>Adventure</td>\n",
       "      <td>139.08</td>\n",
       "      <td>United States of America</td>\n",
       "      <td>961.00</td>\n",
       "      <td>169.0</td>\n",
       "      <td>6.9</td>\n",
       "    </tr>\n",
       "    <tr>\n",
       "      <th>2</th>\n",
       "      <td>245.00</td>\n",
       "      <td>Action</td>\n",
       "      <td>107.38</td>\n",
       "      <td>United Kingdom</td>\n",
       "      <td>880.67</td>\n",
       "      <td>148.0</td>\n",
       "      <td>6.3</td>\n",
       "    </tr>\n",
       "    <tr>\n",
       "      <th>3</th>\n",
       "      <td>250.00</td>\n",
       "      <td>Action</td>\n",
       "      <td>112.31</td>\n",
       "      <td>United States of America</td>\n",
       "      <td>1084.94</td>\n",
       "      <td>165.0</td>\n",
       "      <td>7.6</td>\n",
       "    </tr>\n",
       "    <tr>\n",
       "      <th>4</th>\n",
       "      <td>260.00</td>\n",
       "      <td>Action</td>\n",
       "      <td>43.93</td>\n",
       "      <td>United States of America</td>\n",
       "      <td>284.14</td>\n",
       "      <td>132.0</td>\n",
       "      <td>6.1</td>\n",
       "    </tr>\n",
       "    <tr>\n",
       "      <th>...</th>\n",
       "      <td>...</td>\n",
       "      <td>...</td>\n",
       "      <td>...</td>\n",
       "      <td>...</td>\n",
       "      <td>...</td>\n",
       "      <td>...</td>\n",
       "      <td>...</td>\n",
       "    </tr>\n",
       "    <tr>\n",
       "      <th>4795</th>\n",
       "      <td>0.00</td>\n",
       "      <td>Drama</td>\n",
       "      <td>0.92</td>\n",
       "      <td>United States of America</td>\n",
       "      <td>0.00</td>\n",
       "      <td>98.0</td>\n",
       "      <td>6.0</td>\n",
       "    </tr>\n",
       "    <tr>\n",
       "      <th>4796</th>\n",
       "      <td>0.01</td>\n",
       "      <td>Science Fiction</td>\n",
       "      <td>23.31</td>\n",
       "      <td>United States of America</td>\n",
       "      <td>0.42</td>\n",
       "      <td>77.0</td>\n",
       "      <td>6.9</td>\n",
       "    </tr>\n",
       "    <tr>\n",
       "      <th>4798</th>\n",
       "      <td>0.22</td>\n",
       "      <td>Action</td>\n",
       "      <td>14.27</td>\n",
       "      <td>Mexico</td>\n",
       "      <td>2.04</td>\n",
       "      <td>81.0</td>\n",
       "      <td>6.6</td>\n",
       "    </tr>\n",
       "    <tr>\n",
       "      <th>4800</th>\n",
       "      <td>0.00</td>\n",
       "      <td>Comedy</td>\n",
       "      <td>1.44</td>\n",
       "      <td>United States of America</td>\n",
       "      <td>0.00</td>\n",
       "      <td>120.0</td>\n",
       "      <td>7.0</td>\n",
       "    </tr>\n",
       "    <tr>\n",
       "      <th>4802</th>\n",
       "      <td>0.00</td>\n",
       "      <td>Documentary</td>\n",
       "      <td>1.93</td>\n",
       "      <td>United States of America</td>\n",
       "      <td>0.00</td>\n",
       "      <td>90.0</td>\n",
       "      <td>6.3</td>\n",
       "    </tr>\n",
       "  </tbody>\n",
       "</table>\n",
       "<p>4620 rows × 7 columns</p>\n",
       "</div>"
      ],
      "text/plain": [
       "      budget           Genres  popularity      production_countries  revenue  \\\n",
       "0     237.00           Action      150.44  United States of America  2787.97   \n",
       "1     300.00        Adventure      139.08  United States of America   961.00   \n",
       "2     245.00           Action      107.38            United Kingdom   880.67   \n",
       "3     250.00           Action      112.31  United States of America  1084.94   \n",
       "4     260.00           Action       43.93  United States of America   284.14   \n",
       "...      ...              ...         ...                       ...      ...   \n",
       "4795    0.00            Drama        0.92  United States of America     0.00   \n",
       "4796    0.01  Science Fiction       23.31  United States of America     0.42   \n",
       "4798    0.22           Action       14.27                    Mexico     2.04   \n",
       "4800    0.00           Comedy        1.44  United States of America     0.00   \n",
       "4802    0.00      Documentary        1.93  United States of America     0.00   \n",
       "\n",
       "      runtime  vote_average  \n",
       "0       162.0           7.2  \n",
       "1       169.0           6.9  \n",
       "2       148.0           6.3  \n",
       "3       165.0           7.6  \n",
       "4       132.0           6.1  \n",
       "...       ...           ...  \n",
       "4795     98.0           6.0  \n",
       "4796     77.0           6.9  \n",
       "4798     81.0           6.6  \n",
       "4800    120.0           7.0  \n",
       "4802     90.0           6.3  \n",
       "\n",
       "[4620 rows x 7 columns]"
      ]
     },
     "execution_count": 53,
     "metadata": {},
     "output_type": "execute_result"
    }
   ],
   "source": [
    "df"
   ]
  },
  {
   "cell_type": "code",
   "execution_count": 54,
   "id": "a65a1390",
   "metadata": {},
   "outputs": [
    {
     "name": "stderr",
     "output_type": "stream",
     "text": [
      "C:\\Users\\ajeet\\anaconda3\\Lib\\site-packages\\sklearn\\preprocessing\\_encoders.py:972: FutureWarning: `sparse` was renamed to `sparse_output` in version 1.2 and will be removed in 1.4. `sparse_output` is ignored unless you leave `sparse` to its default value.\n",
      "  warnings.warn(\n"
     ]
    }
   ],
   "source": [
    "cat_cols = ['Genres', 'production_countries']\n",
    "encoder = OneHotEncoder (drop = 'first', sparse = False)\n",
    "encoded_cols = pd.DataFrame(encoder.fit_transform(df[cat_cols]),columns = encoder.get_feature_names_out(cat_cols))"
   ]
  },
  {
   "cell_type": "code",
   "execution_count": 55,
   "id": "41ac4390",
   "metadata": {},
   "outputs": [],
   "source": [
    "num_cols = ['budget', 'popularity', 'runtime', 'vote_average']\n",
    "scale = StandardScaler()\n",
    "scaled_cols = pd.DataFrame(scale.fit_transform(df[num_cols]),\n",
    "                          columns = num_cols)"
   ]
  },
  {
   "cell_type": "code",
   "execution_count": 56,
   "id": "f5caebdf",
   "metadata": {},
   "outputs": [],
   "source": [
    "x = pd.concat([encoded_cols,scaled_cols], axis = 1)\n",
    "y = df['revenue']"
   ]
  },
  {
   "cell_type": "code",
   "execution_count": 57,
   "id": "ff1e8e6c",
   "metadata": {},
   "outputs": [],
   "source": [
    "x_test,x_train,y_test,y_train = train_test_split (x,y , train_size=0.8, random_state=42)"
   ]
  },
  {
   "cell_type": "code",
   "execution_count": 58,
   "id": "33e15192",
   "metadata": {},
   "outputs": [],
   "source": [
    "model = LinearRegression()"
   ]
  },
  {
   "cell_type": "code",
   "execution_count": 59,
   "id": "583b9323",
   "metadata": {},
   "outputs": [
    {
     "data": {
      "text/html": [
       "<style>#sk-container-id-1 {color: black;}#sk-container-id-1 pre{padding: 0;}#sk-container-id-1 div.sk-toggleable {background-color: white;}#sk-container-id-1 label.sk-toggleable__label {cursor: pointer;display: block;width: 100%;margin-bottom: 0;padding: 0.3em;box-sizing: border-box;text-align: center;}#sk-container-id-1 label.sk-toggleable__label-arrow:before {content: \"▸\";float: left;margin-right: 0.25em;color: #696969;}#sk-container-id-1 label.sk-toggleable__label-arrow:hover:before {color: black;}#sk-container-id-1 div.sk-estimator:hover label.sk-toggleable__label-arrow:before {color: black;}#sk-container-id-1 div.sk-toggleable__content {max-height: 0;max-width: 0;overflow: hidden;text-align: left;background-color: #f0f8ff;}#sk-container-id-1 div.sk-toggleable__content pre {margin: 0.2em;color: black;border-radius: 0.25em;background-color: #f0f8ff;}#sk-container-id-1 input.sk-toggleable__control:checked~div.sk-toggleable__content {max-height: 200px;max-width: 100%;overflow: auto;}#sk-container-id-1 input.sk-toggleable__control:checked~label.sk-toggleable__label-arrow:before {content: \"▾\";}#sk-container-id-1 div.sk-estimator input.sk-toggleable__control:checked~label.sk-toggleable__label {background-color: #d4ebff;}#sk-container-id-1 div.sk-label input.sk-toggleable__control:checked~label.sk-toggleable__label {background-color: #d4ebff;}#sk-container-id-1 input.sk-hidden--visually {border: 0;clip: rect(1px 1px 1px 1px);clip: rect(1px, 1px, 1px, 1px);height: 1px;margin: -1px;overflow: hidden;padding: 0;position: absolute;width: 1px;}#sk-container-id-1 div.sk-estimator {font-family: monospace;background-color: #f0f8ff;border: 1px dotted black;border-radius: 0.25em;box-sizing: border-box;margin-bottom: 0.5em;}#sk-container-id-1 div.sk-estimator:hover {background-color: #d4ebff;}#sk-container-id-1 div.sk-parallel-item::after {content: \"\";width: 100%;border-bottom: 1px solid gray;flex-grow: 1;}#sk-container-id-1 div.sk-label:hover label.sk-toggleable__label {background-color: #d4ebff;}#sk-container-id-1 div.sk-serial::before {content: \"\";position: absolute;border-left: 1px solid gray;box-sizing: border-box;top: 0;bottom: 0;left: 50%;z-index: 0;}#sk-container-id-1 div.sk-serial {display: flex;flex-direction: column;align-items: center;background-color: white;padding-right: 0.2em;padding-left: 0.2em;position: relative;}#sk-container-id-1 div.sk-item {position: relative;z-index: 1;}#sk-container-id-1 div.sk-parallel {display: flex;align-items: stretch;justify-content: center;background-color: white;position: relative;}#sk-container-id-1 div.sk-item::before, #sk-container-id-1 div.sk-parallel-item::before {content: \"\";position: absolute;border-left: 1px solid gray;box-sizing: border-box;top: 0;bottom: 0;left: 50%;z-index: -1;}#sk-container-id-1 div.sk-parallel-item {display: flex;flex-direction: column;z-index: 1;position: relative;background-color: white;}#sk-container-id-1 div.sk-parallel-item:first-child::after {align-self: flex-end;width: 50%;}#sk-container-id-1 div.sk-parallel-item:last-child::after {align-self: flex-start;width: 50%;}#sk-container-id-1 div.sk-parallel-item:only-child::after {width: 0;}#sk-container-id-1 div.sk-dashed-wrapped {border: 1px dashed gray;margin: 0 0.4em 0.5em 0.4em;box-sizing: border-box;padding-bottom: 0.4em;background-color: white;}#sk-container-id-1 div.sk-label label {font-family: monospace;font-weight: bold;display: inline-block;line-height: 1.2em;}#sk-container-id-1 div.sk-label-container {text-align: center;}#sk-container-id-1 div.sk-container {/* jupyter's `normalize.less` sets `[hidden] { display: none; }` but bootstrap.min.css set `[hidden] { display: none !important; }` so we also need the `!important` here to be able to override the default hidden behavior on the sphinx rendered scikit-learn.org. See: https://github.com/scikit-learn/scikit-learn/issues/21755 */display: inline-block !important;position: relative;}#sk-container-id-1 div.sk-text-repr-fallback {display: none;}</style><div id=\"sk-container-id-1\" class=\"sk-top-container\"><div class=\"sk-text-repr-fallback\"><pre>LinearRegression()</pre><b>In a Jupyter environment, please rerun this cell to show the HTML representation or trust the notebook. <br />On GitHub, the HTML representation is unable to render, please try loading this page with nbviewer.org.</b></div><div class=\"sk-container\" hidden><div class=\"sk-item\"><div class=\"sk-estimator sk-toggleable\"><input class=\"sk-toggleable__control sk-hidden--visually\" id=\"sk-estimator-id-1\" type=\"checkbox\" checked><label for=\"sk-estimator-id-1\" class=\"sk-toggleable__label sk-toggleable__label-arrow\">LinearRegression</label><div class=\"sk-toggleable__content\"><pre>LinearRegression()</pre></div></div></div></div></div>"
      ],
      "text/plain": [
       "LinearRegression()"
      ]
     },
     "execution_count": 59,
     "metadata": {},
     "output_type": "execute_result"
    }
   ],
   "source": [
    "model.fit(x_train,y_train)"
   ]
  },
  {
   "cell_type": "code",
   "execution_count": 60,
   "id": "45aa2652",
   "metadata": {},
   "outputs": [],
   "source": [
    "y_pred = model.predict(x_test)\n"
   ]
  },
  {
   "cell_type": "code",
   "execution_count": 61,
   "id": "b08174bb",
   "metadata": {},
   "outputs": [],
   "source": [
    "r2 = r2_score(y_test,y_pred)\n",
    "mae = mean_absolute_error(y_test,y_pred)\n",
    "mse = mean_squared_error(y_test,y_pred)\n",
    "rmse = np.sqrt(mse)"
   ]
  },
  {
   "cell_type": "code",
   "execution_count": 62,
   "id": "1dbc1b76",
   "metadata": {},
   "outputs": [
    {
     "name": "stdout",
     "output_type": "stream",
     "text": [
      "MAE: 57.0655901122182\n",
      "MSE: 10926.869210632478\n",
      "RMSE: 104.53166606647231\n",
      "R2 Score: 0.6047693974078152\n"
     ]
    }
   ],
   "source": [
    "print(\"MAE:\", mae)\n",
    "print(\"MSE:\", mse)\n",
    "print(\"RMSE:\", rmse)\n",
    "print(\"R2 Score:\", r2)"
   ]
  },
  {
   "cell_type": "markdown",
   "id": "2a85795d",
   "metadata": {},
   "source": [
    "# Lasso Regression\n"
   ]
  },
  {
   "cell_type": "code",
   "execution_count": 63,
   "id": "d1a11d5b",
   "metadata": {},
   "outputs": [],
   "source": [
    "from sklearn.linear_model import Lasso\n",
    "from sklearn.datasets import make_regression"
   ]
  },
  {
   "cell_type": "code",
   "execution_count": 64,
   "id": "bc26d070",
   "metadata": {},
   "outputs": [],
   "source": [
    "X , y = make_regression (n_samples = 100, n_features=10, noise=0.1, random_state=42)"
   ]
  },
  {
   "cell_type": "code",
   "execution_count": 65,
   "id": "8b24c9da",
   "metadata": {},
   "outputs": [],
   "source": [
    "X_train, X_test, y_train,y_test = train_test_split(X,y, test_size = 0.2, random_state=42)"
   ]
  },
  {
   "cell_type": "code",
   "execution_count": 66,
   "id": "91ae3450",
   "metadata": {},
   "outputs": [],
   "source": [
    "lasso = Lasso(alpha=0.1)"
   ]
  },
  {
   "cell_type": "code",
   "execution_count": 67,
   "id": "05027c56",
   "metadata": {},
   "outputs": [
    {
     "data": {
      "text/html": [
       "<style>#sk-container-id-2 {color: black;}#sk-container-id-2 pre{padding: 0;}#sk-container-id-2 div.sk-toggleable {background-color: white;}#sk-container-id-2 label.sk-toggleable__label {cursor: pointer;display: block;width: 100%;margin-bottom: 0;padding: 0.3em;box-sizing: border-box;text-align: center;}#sk-container-id-2 label.sk-toggleable__label-arrow:before {content: \"▸\";float: left;margin-right: 0.25em;color: #696969;}#sk-container-id-2 label.sk-toggleable__label-arrow:hover:before {color: black;}#sk-container-id-2 div.sk-estimator:hover label.sk-toggleable__label-arrow:before {color: black;}#sk-container-id-2 div.sk-toggleable__content {max-height: 0;max-width: 0;overflow: hidden;text-align: left;background-color: #f0f8ff;}#sk-container-id-2 div.sk-toggleable__content pre {margin: 0.2em;color: black;border-radius: 0.25em;background-color: #f0f8ff;}#sk-container-id-2 input.sk-toggleable__control:checked~div.sk-toggleable__content {max-height: 200px;max-width: 100%;overflow: auto;}#sk-container-id-2 input.sk-toggleable__control:checked~label.sk-toggleable__label-arrow:before {content: \"▾\";}#sk-container-id-2 div.sk-estimator input.sk-toggleable__control:checked~label.sk-toggleable__label {background-color: #d4ebff;}#sk-container-id-2 div.sk-label input.sk-toggleable__control:checked~label.sk-toggleable__label {background-color: #d4ebff;}#sk-container-id-2 input.sk-hidden--visually {border: 0;clip: rect(1px 1px 1px 1px);clip: rect(1px, 1px, 1px, 1px);height: 1px;margin: -1px;overflow: hidden;padding: 0;position: absolute;width: 1px;}#sk-container-id-2 div.sk-estimator {font-family: monospace;background-color: #f0f8ff;border: 1px dotted black;border-radius: 0.25em;box-sizing: border-box;margin-bottom: 0.5em;}#sk-container-id-2 div.sk-estimator:hover {background-color: #d4ebff;}#sk-container-id-2 div.sk-parallel-item::after {content: \"\";width: 100%;border-bottom: 1px solid gray;flex-grow: 1;}#sk-container-id-2 div.sk-label:hover label.sk-toggleable__label {background-color: #d4ebff;}#sk-container-id-2 div.sk-serial::before {content: \"\";position: absolute;border-left: 1px solid gray;box-sizing: border-box;top: 0;bottom: 0;left: 50%;z-index: 0;}#sk-container-id-2 div.sk-serial {display: flex;flex-direction: column;align-items: center;background-color: white;padding-right: 0.2em;padding-left: 0.2em;position: relative;}#sk-container-id-2 div.sk-item {position: relative;z-index: 1;}#sk-container-id-2 div.sk-parallel {display: flex;align-items: stretch;justify-content: center;background-color: white;position: relative;}#sk-container-id-2 div.sk-item::before, #sk-container-id-2 div.sk-parallel-item::before {content: \"\";position: absolute;border-left: 1px solid gray;box-sizing: border-box;top: 0;bottom: 0;left: 50%;z-index: -1;}#sk-container-id-2 div.sk-parallel-item {display: flex;flex-direction: column;z-index: 1;position: relative;background-color: white;}#sk-container-id-2 div.sk-parallel-item:first-child::after {align-self: flex-end;width: 50%;}#sk-container-id-2 div.sk-parallel-item:last-child::after {align-self: flex-start;width: 50%;}#sk-container-id-2 div.sk-parallel-item:only-child::after {width: 0;}#sk-container-id-2 div.sk-dashed-wrapped {border: 1px dashed gray;margin: 0 0.4em 0.5em 0.4em;box-sizing: border-box;padding-bottom: 0.4em;background-color: white;}#sk-container-id-2 div.sk-label label {font-family: monospace;font-weight: bold;display: inline-block;line-height: 1.2em;}#sk-container-id-2 div.sk-label-container {text-align: center;}#sk-container-id-2 div.sk-container {/* jupyter's `normalize.less` sets `[hidden] { display: none; }` but bootstrap.min.css set `[hidden] { display: none !important; }` so we also need the `!important` here to be able to override the default hidden behavior on the sphinx rendered scikit-learn.org. See: https://github.com/scikit-learn/scikit-learn/issues/21755 */display: inline-block !important;position: relative;}#sk-container-id-2 div.sk-text-repr-fallback {display: none;}</style><div id=\"sk-container-id-2\" class=\"sk-top-container\"><div class=\"sk-text-repr-fallback\"><pre>Lasso(alpha=0.1)</pre><b>In a Jupyter environment, please rerun this cell to show the HTML representation or trust the notebook. <br />On GitHub, the HTML representation is unable to render, please try loading this page with nbviewer.org.</b></div><div class=\"sk-container\" hidden><div class=\"sk-item\"><div class=\"sk-estimator sk-toggleable\"><input class=\"sk-toggleable__control sk-hidden--visually\" id=\"sk-estimator-id-2\" type=\"checkbox\" checked><label for=\"sk-estimator-id-2\" class=\"sk-toggleable__label sk-toggleable__label-arrow\">Lasso</label><div class=\"sk-toggleable__content\"><pre>Lasso(alpha=0.1)</pre></div></div></div></div></div>"
      ],
      "text/plain": [
       "Lasso(alpha=0.1)"
      ]
     },
     "execution_count": 67,
     "metadata": {},
     "output_type": "execute_result"
    }
   ],
   "source": [
    "lasso.fit(X_train,y_train)"
   ]
  },
  {
   "cell_type": "code",
   "execution_count": 68,
   "id": "dbc02bd6",
   "metadata": {},
   "outputs": [],
   "source": [
    "prediction = lasso.predict(X_test)"
   ]
  },
  {
   "cell_type": "code",
   "execution_count": 70,
   "id": "14f901cf",
   "metadata": {},
   "outputs": [
    {
     "name": "stdout",
     "output_type": "stream",
     "text": [
      "Mean Squared Error: 0.18237823772608577\n"
     ]
    }
   ],
   "source": [
    "mse = mean_squared_error(y_test, prediction)\n",
    "print(f\"Mean Squared Error: {mse}\")"
   ]
  },
  {
   "cell_type": "markdown",
   "id": "1bc86ace",
   "metadata": {},
   "source": [
    "# Ridge Regression "
   ]
  },
  {
   "cell_type": "code",
   "execution_count": 71,
   "id": "19987909",
   "metadata": {},
   "outputs": [],
   "source": [
    "from sklearn.linear_model import Ridge \n",
    "from sklearn.datasets import make_regression"
   ]
  },
  {
   "cell_type": "code",
   "execution_count": 72,
   "id": "ebaad956",
   "metadata": {},
   "outputs": [],
   "source": [
    "X, y = make_regression(n_samples=100, n_features=10, noise=0.1, random_state=42)"
   ]
  },
  {
   "cell_type": "code",
   "execution_count": 73,
   "id": "5d34c7f9",
   "metadata": {},
   "outputs": [
    {
     "data": {
      "text/html": [
       "<style>#sk-container-id-3 {color: black;}#sk-container-id-3 pre{padding: 0;}#sk-container-id-3 div.sk-toggleable {background-color: white;}#sk-container-id-3 label.sk-toggleable__label {cursor: pointer;display: block;width: 100%;margin-bottom: 0;padding: 0.3em;box-sizing: border-box;text-align: center;}#sk-container-id-3 label.sk-toggleable__label-arrow:before {content: \"▸\";float: left;margin-right: 0.25em;color: #696969;}#sk-container-id-3 label.sk-toggleable__label-arrow:hover:before {color: black;}#sk-container-id-3 div.sk-estimator:hover label.sk-toggleable__label-arrow:before {color: black;}#sk-container-id-3 div.sk-toggleable__content {max-height: 0;max-width: 0;overflow: hidden;text-align: left;background-color: #f0f8ff;}#sk-container-id-3 div.sk-toggleable__content pre {margin: 0.2em;color: black;border-radius: 0.25em;background-color: #f0f8ff;}#sk-container-id-3 input.sk-toggleable__control:checked~div.sk-toggleable__content {max-height: 200px;max-width: 100%;overflow: auto;}#sk-container-id-3 input.sk-toggleable__control:checked~label.sk-toggleable__label-arrow:before {content: \"▾\";}#sk-container-id-3 div.sk-estimator input.sk-toggleable__control:checked~label.sk-toggleable__label {background-color: #d4ebff;}#sk-container-id-3 div.sk-label input.sk-toggleable__control:checked~label.sk-toggleable__label {background-color: #d4ebff;}#sk-container-id-3 input.sk-hidden--visually {border: 0;clip: rect(1px 1px 1px 1px);clip: rect(1px, 1px, 1px, 1px);height: 1px;margin: -1px;overflow: hidden;padding: 0;position: absolute;width: 1px;}#sk-container-id-3 div.sk-estimator {font-family: monospace;background-color: #f0f8ff;border: 1px dotted black;border-radius: 0.25em;box-sizing: border-box;margin-bottom: 0.5em;}#sk-container-id-3 div.sk-estimator:hover {background-color: #d4ebff;}#sk-container-id-3 div.sk-parallel-item::after {content: \"\";width: 100%;border-bottom: 1px solid gray;flex-grow: 1;}#sk-container-id-3 div.sk-label:hover label.sk-toggleable__label {background-color: #d4ebff;}#sk-container-id-3 div.sk-serial::before {content: \"\";position: absolute;border-left: 1px solid gray;box-sizing: border-box;top: 0;bottom: 0;left: 50%;z-index: 0;}#sk-container-id-3 div.sk-serial {display: flex;flex-direction: column;align-items: center;background-color: white;padding-right: 0.2em;padding-left: 0.2em;position: relative;}#sk-container-id-3 div.sk-item {position: relative;z-index: 1;}#sk-container-id-3 div.sk-parallel {display: flex;align-items: stretch;justify-content: center;background-color: white;position: relative;}#sk-container-id-3 div.sk-item::before, #sk-container-id-3 div.sk-parallel-item::before {content: \"\";position: absolute;border-left: 1px solid gray;box-sizing: border-box;top: 0;bottom: 0;left: 50%;z-index: -1;}#sk-container-id-3 div.sk-parallel-item {display: flex;flex-direction: column;z-index: 1;position: relative;background-color: white;}#sk-container-id-3 div.sk-parallel-item:first-child::after {align-self: flex-end;width: 50%;}#sk-container-id-3 div.sk-parallel-item:last-child::after {align-self: flex-start;width: 50%;}#sk-container-id-3 div.sk-parallel-item:only-child::after {width: 0;}#sk-container-id-3 div.sk-dashed-wrapped {border: 1px dashed gray;margin: 0 0.4em 0.5em 0.4em;box-sizing: border-box;padding-bottom: 0.4em;background-color: white;}#sk-container-id-3 div.sk-label label {font-family: monospace;font-weight: bold;display: inline-block;line-height: 1.2em;}#sk-container-id-3 div.sk-label-container {text-align: center;}#sk-container-id-3 div.sk-container {/* jupyter's `normalize.less` sets `[hidden] { display: none; }` but bootstrap.min.css set `[hidden] { display: none !important; }` so we also need the `!important` here to be able to override the default hidden behavior on the sphinx rendered scikit-learn.org. See: https://github.com/scikit-learn/scikit-learn/issues/21755 */display: inline-block !important;position: relative;}#sk-container-id-3 div.sk-text-repr-fallback {display: none;}</style><div id=\"sk-container-id-3\" class=\"sk-top-container\"><div class=\"sk-text-repr-fallback\"><pre>Ridge()</pre><b>In a Jupyter environment, please rerun this cell to show the HTML representation or trust the notebook. <br />On GitHub, the HTML representation is unable to render, please try loading this page with nbviewer.org.</b></div><div class=\"sk-container\" hidden><div class=\"sk-item\"><div class=\"sk-estimator sk-toggleable\"><input class=\"sk-toggleable__control sk-hidden--visually\" id=\"sk-estimator-id-3\" type=\"checkbox\" checked><label for=\"sk-estimator-id-3\" class=\"sk-toggleable__label sk-toggleable__label-arrow\">Ridge</label><div class=\"sk-toggleable__content\"><pre>Ridge()</pre></div></div></div></div></div>"
      ],
      "text/plain": [
       "Ridge()"
      ]
     },
     "execution_count": 73,
     "metadata": {},
     "output_type": "execute_result"
    }
   ],
   "source": [
    "\n",
    "X_train, X_test, y_train, y_test = train_test_split(X, y, test_size=0.2, random_state=42)\n",
    "\n",
    "ridge = Ridge(alpha=1.0)\n",
    "\n",
    "ridge.fit(X_train, y_train)\n"
   ]
  },
  {
   "cell_type": "code",
   "execution_count": 74,
   "id": "81392ea3",
   "metadata": {},
   "outputs": [
    {
     "name": "stdout",
     "output_type": "stream",
     "text": [
      "Mean Squared Error: 11.844580603662983\n"
     ]
    }
   ],
   "source": [
    "\n",
    "predictions = ridge.predict(X_test)\n",
    "\n",
    "mse = mean_squared_error(y_test, predictions)\n",
    "print(f\"Mean Squared Error: {mse}\")"
   ]
  },
  {
   "cell_type": "code",
   "execution_count": null,
   "id": "dd0d6a36",
   "metadata": {},
   "outputs": [],
   "source": []
  },
  {
   "cell_type": "markdown",
   "id": "ac3d6ebe",
   "metadata": {},
   "source": [
    "# Elastic net method"
   ]
  },
  {
   "cell_type": "code",
   "execution_count": 94,
   "id": "14d5901b",
   "metadata": {},
   "outputs": [],
   "source": [
    "from sklearn.linear_model import ElasticNet"
   ]
  },
  {
   "cell_type": "code",
   "execution_count": 76,
   "id": "1444c9e7",
   "metadata": {},
   "outputs": [
    {
     "data": {
      "text/html": [
       "<style>#sk-container-id-4 {color: black;}#sk-container-id-4 pre{padding: 0;}#sk-container-id-4 div.sk-toggleable {background-color: white;}#sk-container-id-4 label.sk-toggleable__label {cursor: pointer;display: block;width: 100%;margin-bottom: 0;padding: 0.3em;box-sizing: border-box;text-align: center;}#sk-container-id-4 label.sk-toggleable__label-arrow:before {content: \"▸\";float: left;margin-right: 0.25em;color: #696969;}#sk-container-id-4 label.sk-toggleable__label-arrow:hover:before {color: black;}#sk-container-id-4 div.sk-estimator:hover label.sk-toggleable__label-arrow:before {color: black;}#sk-container-id-4 div.sk-toggleable__content {max-height: 0;max-width: 0;overflow: hidden;text-align: left;background-color: #f0f8ff;}#sk-container-id-4 div.sk-toggleable__content pre {margin: 0.2em;color: black;border-radius: 0.25em;background-color: #f0f8ff;}#sk-container-id-4 input.sk-toggleable__control:checked~div.sk-toggleable__content {max-height: 200px;max-width: 100%;overflow: auto;}#sk-container-id-4 input.sk-toggleable__control:checked~label.sk-toggleable__label-arrow:before {content: \"▾\";}#sk-container-id-4 div.sk-estimator input.sk-toggleable__control:checked~label.sk-toggleable__label {background-color: #d4ebff;}#sk-container-id-4 div.sk-label input.sk-toggleable__control:checked~label.sk-toggleable__label {background-color: #d4ebff;}#sk-container-id-4 input.sk-hidden--visually {border: 0;clip: rect(1px 1px 1px 1px);clip: rect(1px, 1px, 1px, 1px);height: 1px;margin: -1px;overflow: hidden;padding: 0;position: absolute;width: 1px;}#sk-container-id-4 div.sk-estimator {font-family: monospace;background-color: #f0f8ff;border: 1px dotted black;border-radius: 0.25em;box-sizing: border-box;margin-bottom: 0.5em;}#sk-container-id-4 div.sk-estimator:hover {background-color: #d4ebff;}#sk-container-id-4 div.sk-parallel-item::after {content: \"\";width: 100%;border-bottom: 1px solid gray;flex-grow: 1;}#sk-container-id-4 div.sk-label:hover label.sk-toggleable__label {background-color: #d4ebff;}#sk-container-id-4 div.sk-serial::before {content: \"\";position: absolute;border-left: 1px solid gray;box-sizing: border-box;top: 0;bottom: 0;left: 50%;z-index: 0;}#sk-container-id-4 div.sk-serial {display: flex;flex-direction: column;align-items: center;background-color: white;padding-right: 0.2em;padding-left: 0.2em;position: relative;}#sk-container-id-4 div.sk-item {position: relative;z-index: 1;}#sk-container-id-4 div.sk-parallel {display: flex;align-items: stretch;justify-content: center;background-color: white;position: relative;}#sk-container-id-4 div.sk-item::before, #sk-container-id-4 div.sk-parallel-item::before {content: \"\";position: absolute;border-left: 1px solid gray;box-sizing: border-box;top: 0;bottom: 0;left: 50%;z-index: -1;}#sk-container-id-4 div.sk-parallel-item {display: flex;flex-direction: column;z-index: 1;position: relative;background-color: white;}#sk-container-id-4 div.sk-parallel-item:first-child::after {align-self: flex-end;width: 50%;}#sk-container-id-4 div.sk-parallel-item:last-child::after {align-self: flex-start;width: 50%;}#sk-container-id-4 div.sk-parallel-item:only-child::after {width: 0;}#sk-container-id-4 div.sk-dashed-wrapped {border: 1px dashed gray;margin: 0 0.4em 0.5em 0.4em;box-sizing: border-box;padding-bottom: 0.4em;background-color: white;}#sk-container-id-4 div.sk-label label {font-family: monospace;font-weight: bold;display: inline-block;line-height: 1.2em;}#sk-container-id-4 div.sk-label-container {text-align: center;}#sk-container-id-4 div.sk-container {/* jupyter's `normalize.less` sets `[hidden] { display: none; }` but bootstrap.min.css set `[hidden] { display: none !important; }` so we also need the `!important` here to be able to override the default hidden behavior on the sphinx rendered scikit-learn.org. See: https://github.com/scikit-learn/scikit-learn/issues/21755 */display: inline-block !important;position: relative;}#sk-container-id-4 div.sk-text-repr-fallback {display: none;}</style><div id=\"sk-container-id-4\" class=\"sk-top-container\"><div class=\"sk-text-repr-fallback\"><pre>ElasticNet()</pre><b>In a Jupyter environment, please rerun this cell to show the HTML representation or trust the notebook. <br />On GitHub, the HTML representation is unable to render, please try loading this page with nbviewer.org.</b></div><div class=\"sk-container\" hidden><div class=\"sk-item\"><div class=\"sk-estimator sk-toggleable\"><input class=\"sk-toggleable__control sk-hidden--visually\" id=\"sk-estimator-id-4\" type=\"checkbox\" checked><label for=\"sk-estimator-id-4\" class=\"sk-toggleable__label sk-toggleable__label-arrow\">ElasticNet</label><div class=\"sk-toggleable__content\"><pre>ElasticNet()</pre></div></div></div></div></div>"
      ],
      "text/plain": [
       "ElasticNet()"
      ]
     },
     "execution_count": 76,
     "metadata": {},
     "output_type": "execute_result"
    }
   ],
   "source": [
    "X, y = make_regression(n_samples=100, n_features=10, noise=0.1, random_state=42)\n",
    "\n",
    "X_train, X_test, y_train, y_test = train_test_split(X, y, test_size=0.2, random_state=42)\n",
    "\n",
    "elastic_net = ElasticNet(alpha=1.0, l1_ratio=0.5)\n",
    "\n",
    "elastic_net.fit(X_train, y_train)"
   ]
  },
  {
   "cell_type": "code",
   "execution_count": 77,
   "id": "564617e4",
   "metadata": {},
   "outputs": [
    {
     "name": "stdout",
     "output_type": "stream",
     "text": [
      "Mean Squared Error: 7785.886176938015\n"
     ]
    }
   ],
   "source": [
    "predictions = elastic_net.predict(X_test)\n",
    "\n",
    "\n",
    "mse = mean_squared_error(y_test, predictions)\n",
    "print(f\"Mean Squared Error: {mse}\")"
   ]
  },
  {
   "cell_type": "markdown",
   "id": "0deaac7c",
   "metadata": {},
   "source": [
    "# Tuning"
   ]
  },
  {
   "cell_type": "code",
   "execution_count": 78,
   "id": "2ff75658",
   "metadata": {},
   "outputs": [],
   "source": [
    "from sklearn.linear_model import Ridge\n",
    "from sklearn.datasets import make_regression\n",
    "from sklearn.model_selection import train_test_split, GridSearchCV"
   ]
  },
  {
   "cell_type": "code",
   "execution_count": 79,
   "id": "da16794d",
   "metadata": {},
   "outputs": [],
   "source": [
    "X, y = make_regression(n_samples=100, n_features=10, noise=0.1, random_state=42)"
   ]
  },
  {
   "cell_type": "code",
   "execution_count": 80,
   "id": "0a70a0e3",
   "metadata": {},
   "outputs": [],
   "source": [
    "X_train, X_test, y_train, y_test = train_test_split(X, y, test_size=0.2, random_state=42)"
   ]
  },
  {
   "cell_type": "code",
   "execution_count": 95,
   "id": "8b5fce38",
   "metadata": {},
   "outputs": [],
   "source": [
    "ridge = Ridge()\n",
    "param_grid = {'alpha': [0.1, 1.0, 10.0,50], 'solver': ['auto', 'svd', 'cholesky', 'lsqr', 'sparse_cg', 'sag', 'saga']}"
   ]
  },
  {
   "cell_type": "code",
   "execution_count": 96,
   "id": "c52f1466",
   "metadata": {},
   "outputs": [],
   "source": [
    "grid_search = GridSearchCV(ridge, param_grid, cv=5, scoring='neg_mean_squared_error')"
   ]
  },
  {
   "cell_type": "code",
   "execution_count": 97,
   "id": "002507ba",
   "metadata": {},
   "outputs": [
    {
     "data": {
      "text/html": [
       "<style>#sk-container-id-6 {color: black;}#sk-container-id-6 pre{padding: 0;}#sk-container-id-6 div.sk-toggleable {background-color: white;}#sk-container-id-6 label.sk-toggleable__label {cursor: pointer;display: block;width: 100%;margin-bottom: 0;padding: 0.3em;box-sizing: border-box;text-align: center;}#sk-container-id-6 label.sk-toggleable__label-arrow:before {content: \"▸\";float: left;margin-right: 0.25em;color: #696969;}#sk-container-id-6 label.sk-toggleable__label-arrow:hover:before {color: black;}#sk-container-id-6 div.sk-estimator:hover label.sk-toggleable__label-arrow:before {color: black;}#sk-container-id-6 div.sk-toggleable__content {max-height: 0;max-width: 0;overflow: hidden;text-align: left;background-color: #f0f8ff;}#sk-container-id-6 div.sk-toggleable__content pre {margin: 0.2em;color: black;border-radius: 0.25em;background-color: #f0f8ff;}#sk-container-id-6 input.sk-toggleable__control:checked~div.sk-toggleable__content {max-height: 200px;max-width: 100%;overflow: auto;}#sk-container-id-6 input.sk-toggleable__control:checked~label.sk-toggleable__label-arrow:before {content: \"▾\";}#sk-container-id-6 div.sk-estimator input.sk-toggleable__control:checked~label.sk-toggleable__label {background-color: #d4ebff;}#sk-container-id-6 div.sk-label input.sk-toggleable__control:checked~label.sk-toggleable__label {background-color: #d4ebff;}#sk-container-id-6 input.sk-hidden--visually {border: 0;clip: rect(1px 1px 1px 1px);clip: rect(1px, 1px, 1px, 1px);height: 1px;margin: -1px;overflow: hidden;padding: 0;position: absolute;width: 1px;}#sk-container-id-6 div.sk-estimator {font-family: monospace;background-color: #f0f8ff;border: 1px dotted black;border-radius: 0.25em;box-sizing: border-box;margin-bottom: 0.5em;}#sk-container-id-6 div.sk-estimator:hover {background-color: #d4ebff;}#sk-container-id-6 div.sk-parallel-item::after {content: \"\";width: 100%;border-bottom: 1px solid gray;flex-grow: 1;}#sk-container-id-6 div.sk-label:hover label.sk-toggleable__label {background-color: #d4ebff;}#sk-container-id-6 div.sk-serial::before {content: \"\";position: absolute;border-left: 1px solid gray;box-sizing: border-box;top: 0;bottom: 0;left: 50%;z-index: 0;}#sk-container-id-6 div.sk-serial {display: flex;flex-direction: column;align-items: center;background-color: white;padding-right: 0.2em;padding-left: 0.2em;position: relative;}#sk-container-id-6 div.sk-item {position: relative;z-index: 1;}#sk-container-id-6 div.sk-parallel {display: flex;align-items: stretch;justify-content: center;background-color: white;position: relative;}#sk-container-id-6 div.sk-item::before, #sk-container-id-6 div.sk-parallel-item::before {content: \"\";position: absolute;border-left: 1px solid gray;box-sizing: border-box;top: 0;bottom: 0;left: 50%;z-index: -1;}#sk-container-id-6 div.sk-parallel-item {display: flex;flex-direction: column;z-index: 1;position: relative;background-color: white;}#sk-container-id-6 div.sk-parallel-item:first-child::after {align-self: flex-end;width: 50%;}#sk-container-id-6 div.sk-parallel-item:last-child::after {align-self: flex-start;width: 50%;}#sk-container-id-6 div.sk-parallel-item:only-child::after {width: 0;}#sk-container-id-6 div.sk-dashed-wrapped {border: 1px dashed gray;margin: 0 0.4em 0.5em 0.4em;box-sizing: border-box;padding-bottom: 0.4em;background-color: white;}#sk-container-id-6 div.sk-label label {font-family: monospace;font-weight: bold;display: inline-block;line-height: 1.2em;}#sk-container-id-6 div.sk-label-container {text-align: center;}#sk-container-id-6 div.sk-container {/* jupyter's `normalize.less` sets `[hidden] { display: none; }` but bootstrap.min.css set `[hidden] { display: none !important; }` so we also need the `!important` here to be able to override the default hidden behavior on the sphinx rendered scikit-learn.org. See: https://github.com/scikit-learn/scikit-learn/issues/21755 */display: inline-block !important;position: relative;}#sk-container-id-6 div.sk-text-repr-fallback {display: none;}</style><div id=\"sk-container-id-6\" class=\"sk-top-container\"><div class=\"sk-text-repr-fallback\"><pre>GridSearchCV(cv=5, estimator=Ridge(),\n",
       "             param_grid={&#x27;alpha&#x27;: [0.1, 1.0, 10.0, 50],\n",
       "                         &#x27;solver&#x27;: [&#x27;auto&#x27;, &#x27;svd&#x27;, &#x27;cholesky&#x27;, &#x27;lsqr&#x27;,\n",
       "                                    &#x27;sparse_cg&#x27;, &#x27;sag&#x27;, &#x27;saga&#x27;]},\n",
       "             scoring=&#x27;neg_mean_squared_error&#x27;)</pre><b>In a Jupyter environment, please rerun this cell to show the HTML representation or trust the notebook. <br />On GitHub, the HTML representation is unable to render, please try loading this page with nbviewer.org.</b></div><div class=\"sk-container\" hidden><div class=\"sk-item sk-dashed-wrapped\"><div class=\"sk-label-container\"><div class=\"sk-label sk-toggleable\"><input class=\"sk-toggleable__control sk-hidden--visually\" id=\"sk-estimator-id-8\" type=\"checkbox\" ><label for=\"sk-estimator-id-8\" class=\"sk-toggleable__label sk-toggleable__label-arrow\">GridSearchCV</label><div class=\"sk-toggleable__content\"><pre>GridSearchCV(cv=5, estimator=Ridge(),\n",
       "             param_grid={&#x27;alpha&#x27;: [0.1, 1.0, 10.0, 50],\n",
       "                         &#x27;solver&#x27;: [&#x27;auto&#x27;, &#x27;svd&#x27;, &#x27;cholesky&#x27;, &#x27;lsqr&#x27;,\n",
       "                                    &#x27;sparse_cg&#x27;, &#x27;sag&#x27;, &#x27;saga&#x27;]},\n",
       "             scoring=&#x27;neg_mean_squared_error&#x27;)</pre></div></div></div><div class=\"sk-parallel\"><div class=\"sk-parallel-item\"><div class=\"sk-item\"><div class=\"sk-label-container\"><div class=\"sk-label sk-toggleable\"><input class=\"sk-toggleable__control sk-hidden--visually\" id=\"sk-estimator-id-9\" type=\"checkbox\" ><label for=\"sk-estimator-id-9\" class=\"sk-toggleable__label sk-toggleable__label-arrow\">estimator: Ridge</label><div class=\"sk-toggleable__content\"><pre>Ridge()</pre></div></div></div><div class=\"sk-serial\"><div class=\"sk-item\"><div class=\"sk-estimator sk-toggleable\"><input class=\"sk-toggleable__control sk-hidden--visually\" id=\"sk-estimator-id-10\" type=\"checkbox\" ><label for=\"sk-estimator-id-10\" class=\"sk-toggleable__label sk-toggleable__label-arrow\">Ridge</label><div class=\"sk-toggleable__content\"><pre>Ridge()</pre></div></div></div></div></div></div></div></div></div></div>"
      ],
      "text/plain": [
       "GridSearchCV(cv=5, estimator=Ridge(),\n",
       "             param_grid={'alpha': [0.1, 1.0, 10.0, 50],\n",
       "                         'solver': ['auto', 'svd', 'cholesky', 'lsqr',\n",
       "                                    'sparse_cg', 'sag', 'saga']},\n",
       "             scoring='neg_mean_squared_error')"
      ]
     },
     "execution_count": 97,
     "metadata": {},
     "output_type": "execute_result"
    }
   ],
   "source": [
    "grid_search.fit(X_train, y_train)"
   ]
  },
  {
   "cell_type": "code",
   "execution_count": 98,
   "id": "fbef7afa",
   "metadata": {},
   "outputs": [
    {
     "name": "stdout",
     "output_type": "stream",
     "text": [
      "Best Hyperparameters: {'alpha': 0.1, 'solver': 'sparse_cg'}\n"
     ]
    }
   ],
   "source": [
    "best_params = grid_search.best_params_\n",
    "print(\"Best Hyperparameters:\", best_params)"
   ]
  },
  {
   "cell_type": "code",
   "execution_count": 99,
   "id": "bcb09227",
   "metadata": {},
   "outputs": [],
   "source": [
    "best_model = grid_search.best_estimator_"
   ]
  },
  {
   "cell_type": "code",
   "execution_count": 100,
   "id": "1a3aa013",
   "metadata": {},
   "outputs": [],
   "source": [
    "predictions = best_model.predict(X_test)"
   ]
  },
  {
   "cell_type": "code",
   "execution_count": 101,
   "id": "44178c31",
   "metadata": {},
   "outputs": [
    {
     "name": "stdout",
     "output_type": "stream",
     "text": [
      "Mean Squared Error: 0.14744635994909128\n"
     ]
    }
   ],
   "source": [
    "mse = mean_squared_error(y_test, predictions)\n",
    "print(f\"Mean Squared Error: {mse}\")"
   ]
  },
  {
   "cell_type": "code",
   "execution_count": 116,
   "id": "2e6a06ec",
   "metadata": {},
   "outputs": [
    {
     "name": "stdout",
     "output_type": "stream",
     "text": [
      "R^2 Score: 0.9999975329050182\n"
     ]
    }
   ],
   "source": [
    "r2 = r2_score(y_test, predictions)\n",
    "print(f\"R^2 Score: {r2}\")"
   ]
  },
  {
   "cell_type": "code",
   "execution_count": null,
   "id": "3c4a22f0",
   "metadata": {},
   "outputs": [],
   "source": []
  }
 ],
 "metadata": {
  "kernelspec": {
   "display_name": "Python 3 (ipykernel)",
   "language": "python",
   "name": "python3"
  },
  "language_info": {
   "codemirror_mode": {
    "name": "ipython",
    "version": 3
   },
   "file_extension": ".py",
   "mimetype": "text/x-python",
   "name": "python",
   "nbconvert_exporter": "python",
   "pygments_lexer": "ipython3",
   "version": "3.11.5"
  }
 },
 "nbformat": 4,
 "nbformat_minor": 5
}
